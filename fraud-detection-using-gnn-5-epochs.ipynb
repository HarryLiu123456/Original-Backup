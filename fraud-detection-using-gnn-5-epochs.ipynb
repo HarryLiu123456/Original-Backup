{
 "cells": [
  {
   "cell_type": "code",
   "execution_count": 1,
   "id": "b626ef3a",
   "metadata": {
    "_cell_guid": "b1076dfc-b9ad-4769-8c92-a6c4dae69d19",
    "_uuid": "8f2839f25d086af736a60e9eeb907d3b93b6e0e5",
    "execution": {
     "iopub.execute_input": "2023-05-07T22:46:25.434225Z",
     "iopub.status.busy": "2023-05-07T22:46:25.433443Z",
     "iopub.status.idle": "2023-05-07T22:46:25.448450Z",
     "shell.execute_reply": "2023-05-07T22:46:25.447495Z"
    },
    "papermill": {
     "duration": 0.036152,
     "end_time": "2023-05-07T22:46:25.450563",
     "exception": false,
     "start_time": "2023-05-07T22:46:25.414411",
     "status": "completed"
    },
    "tags": []
   },
   "outputs": [
    {
     "name": "stdout",
     "output_type": "stream",
     "text": [
      "/kaggle/input/ieee-fraud-detection/sample_submission.csv\n",
      "/kaggle/input/ieee-fraud-detection/test_identity.csv\n",
      "/kaggle/input/ieee-fraud-detection/train_identity.csv\n",
      "/kaggle/input/ieee-fraud-detection/test_transaction.csv\n",
      "/kaggle/input/ieee-fraud-detection/train_transaction.csv\n"
     ]
    }
   ],
   "source": [
    "# This Python 3 environment comes with many helpful analytics libraries installed\n",
    "# It is defined by the kaggle/python Docker image: https://github.com/kaggle/docker-python\n",
    "# For example, here's several helpful packages to load\n",
    "\n",
    "import numpy as np # linear algebra\n",
    "import pandas as pd # data processing, CSV file I/O (e.g. pd.read_csv)\n",
    "\n",
    "# Input data files are available in the read-only \"../input/\" directory\n",
    "# For example, running this (by clicking run or pressing Shift+Enter) will list all files under the input directory\n",
    "\n",
    "import os\n",
    "for dirname, _, filenames in os.walk('/kaggle/input'):\n",
    "    for filename in filenames:\n",
    "        print(os.path.join(dirname, filename))\n",
    "\n",
    "# You can write up to 20GB to the current directory (/kaggle/working/) that gets preserved as output when you create a version using \"Save & Run All\" \n",
    "# You can also write temporary files to /kaggle/temp/, but they won't be saved outside of the current session"
   ]
  },
  {
   "cell_type": "markdown",
   "id": "fb7deb9a",
   "metadata": {
    "papermill": {
     "duration": 0.01751,
     "end_time": "2023-05-07T22:46:25.485116",
     "exception": false,
     "start_time": "2023-05-07T22:46:25.467606",
     "status": "completed"
    },
    "tags": []
   },
   "source": [
    "# **Data Preparation**"
   ]
  },
  {
   "cell_type": "markdown",
   "id": "e4597f2c",
   "metadata": {
    "papermill": {
     "duration": 0.016302,
     "end_time": "2023-05-07T22:46:25.518831",
     "exception": false,
     "start_time": "2023-05-07T22:46:25.502529",
     "status": "completed"
    },
    "tags": []
   },
   "source": [
    "**Data Overview**"
   ]
  },
  {
   "cell_type": "code",
   "execution_count": 2,
   "id": "139249af",
   "metadata": {
    "execution": {
     "iopub.execute_input": "2023-05-07T22:46:25.555485Z",
     "iopub.status.busy": "2023-05-07T22:46:25.554417Z",
     "iopub.status.idle": "2023-05-07T22:46:25.558713Z",
     "shell.execute_reply": "2023-05-07T22:46:25.557992Z"
    },
    "papermill": {
     "duration": 0.024347,
     "end_time": "2023-05-07T22:46:25.560551",
     "exception": false,
     "start_time": "2023-05-07T22:46:25.536204",
     "status": "completed"
    },
    "tags": []
   },
   "outputs": [],
   "source": [
    "import numpy as np\n",
    "import pandas as pd"
   ]
  },
  {
   "cell_type": "markdown",
   "id": "3a355e0f",
   "metadata": {
    "papermill": {
     "duration": 0.016416,
     "end_time": "2023-05-07T22:46:25.593801",
     "exception": false,
     "start_time": "2023-05-07T22:46:25.577385",
     "status": "completed"
    },
    "tags": []
   },
   "source": [
    "**Data Description**"
   ]
  },
  {
   "cell_type": "code",
   "execution_count": 3,
   "id": "0f860da1",
   "metadata": {
    "execution": {
     "iopub.execute_input": "2023-05-07T22:46:25.629474Z",
     "iopub.status.busy": "2023-05-07T22:46:25.628374Z",
     "iopub.status.idle": "2023-05-07T22:47:28.249466Z",
     "shell.execute_reply": "2023-05-07T22:47:28.248395Z"
    },
    "papermill": {
     "duration": 62.641577,
     "end_time": "2023-05-07T22:47:28.252263",
     "exception": false,
     "start_time": "2023-05-07T22:46:25.610686",
     "status": "completed"
    },
    "tags": []
   },
   "outputs": [],
   "source": [
    "transaction_df = pd.read_csv('/kaggle/input/ieee-fraud-detection/train_transaction.csv')\n",
    "identity_df = pd.read_csv('/kaggle/input/ieee-fraud-detection/train_identity.csv')\n",
    "test_transaction = pd.read_csv('/kaggle/input/ieee-fraud-detection/test_transaction.csv')\n",
    "test_identity = pd.read_csv('/kaggle/input/ieee-fraud-detection/test_identity.csv')"
   ]
  },
  {
   "cell_type": "code",
   "execution_count": 4,
   "id": "cd217ecc",
   "metadata": {
    "execution": {
     "iopub.execute_input": "2023-05-07T22:47:28.288152Z",
     "iopub.status.busy": "2023-05-07T22:47:28.287256Z",
     "iopub.status.idle": "2023-05-07T22:47:28.292290Z",
     "shell.execute_reply": "2023-05-07T22:47:28.291460Z"
    },
    "papermill": {
     "duration": 0.025092,
     "end_time": "2023-05-07T22:47:28.294351",
     "exception": false,
     "start_time": "2023-05-07T22:47:28.269259",
     "status": "completed"
    },
    "tags": []
   },
   "outputs": [],
   "source": [
    "id_cols = ['card1','card2','card3','card4','card5','card6','ProductCD','addr1','addr2','P_emaildomain','R_emaildomain']\n",
    "cat_cols = ['M1','M2','M3','M4','M5','M6','M7','M8','M9']\n",
    "train_data_ratio = 0.8"
   ]
  },
  {
   "cell_type": "code",
   "execution_count": 5,
   "id": "6a96766f",
   "metadata": {
    "execution": {
     "iopub.execute_input": "2023-05-07T22:47:28.329715Z",
     "iopub.status.busy": "2023-05-07T22:47:28.329360Z",
     "iopub.status.idle": "2023-05-07T22:47:28.337010Z",
     "shell.execute_reply": "2023-05-07T22:47:28.336254Z"
    },
    "papermill": {
     "duration": 0.027726,
     "end_time": "2023-05-07T22:47:28.338916",
     "exception": false,
     "start_time": "2023-05-07T22:47:28.311190",
     "status": "completed"
    },
    "tags": []
   },
   "outputs": [],
   "source": [
    "n_train = int(transaction_df.shape[0]*train_data_ratio)\n",
    "test_ids = transaction_df.TransactionID.values[n_train:]"
   ]
  },
  {
   "cell_type": "code",
   "execution_count": 6,
   "id": "ca58f160",
   "metadata": {
    "execution": {
     "iopub.execute_input": "2023-05-07T22:47:28.374651Z",
     "iopub.status.busy": "2023-05-07T22:47:28.374289Z",
     "iopub.status.idle": "2023-05-07T22:47:28.483025Z",
     "shell.execute_reply": "2023-05-07T22:47:28.481740Z"
    },
    "papermill": {
     "duration": 0.129626,
     "end_time": "2023-05-07T22:47:28.485591",
     "exception": false,
     "start_time": "2023-05-07T22:47:28.355965",
     "status": "completed"
    },
    "tags": []
   },
   "outputs": [
    {
     "name": "stdout",
     "output_type": "stream",
     "text": [
      "Percent fraud for train transactions: 3.5135215226741625\n",
      "Percent fraud for test transactions: 3.4409184813899145\n",
      "Percent fraud for all transactions: 3.499000914417313\n"
     ]
    }
   ],
   "source": [
    "get_fraud_frac = lambda series: 100 * sum(series)/len(series)\n",
    "print(\"Percent fraud for train transactions: {}\".format(get_fraud_frac(transaction_df.isFraud[:n_train])))\n",
    "print(\"Percent fraud for test transactions: {}\".format(get_fraud_frac(transaction_df.isFraud[n_train:])))\n",
    "print(\"Percent fraud for all transactions: {}\".format(get_fraud_frac(transaction_df.isFraud)))"
   ]
  },
  {
   "cell_type": "code",
   "execution_count": 7,
   "id": "cc72fa9e",
   "metadata": {
    "execution": {
     "iopub.execute_input": "2023-05-07T22:47:28.521463Z",
     "iopub.status.busy": "2023-05-07T22:47:28.520874Z",
     "iopub.status.idle": "2023-05-07T22:47:28.617572Z",
     "shell.execute_reply": "2023-05-07T22:47:28.616598Z"
    },
    "papermill": {
     "duration": 0.117373,
     "end_time": "2023-05-07T22:47:28.620059",
     "exception": false,
     "start_time": "2023-05-07T22:47:28.502686",
     "status": "completed"
    },
    "tags": []
   },
   "outputs": [],
   "source": [
    "with open('/kaggle/working/test.csv', 'w') as f:\n",
    "    f.writelines(map(lambda x: str(x) + \"\\n\", test_ids))"
   ]
  },
  {
   "cell_type": "code",
   "execution_count": 8,
   "id": "f9271ece",
   "metadata": {
    "execution": {
     "iopub.execute_input": "2023-05-07T22:47:28.656704Z",
     "iopub.status.busy": "2023-05-07T22:47:28.656101Z",
     "iopub.status.idle": "2023-05-07T22:47:28.661884Z",
     "shell.execute_reply": "2023-05-07T22:47:28.660737Z"
    },
    "papermill": {
     "duration": 0.026641,
     "end_time": "2023-05-07T22:47:28.664140",
     "exception": false,
     "start_time": "2023-05-07T22:47:28.637499",
     "status": "completed"
    },
    "tags": []
   },
   "outputs": [
    {
     "name": "stdout",
     "output_type": "stream",
     "text": [
      "['isFraud', 'TransactionDT', 'card1', 'card2', 'card3', 'card4', 'card5', 'card6', 'ProductCD', 'addr1', 'addr2', 'P_emaildomain', 'R_emaildomain']\n"
     ]
    }
   ],
   "source": [
    "non_feature_cols = ['isFraud', 'TransactionDT'] + id_cols\n",
    "print(non_feature_cols)"
   ]
  },
  {
   "cell_type": "code",
   "execution_count": 9,
   "id": "8d6a9264",
   "metadata": {
    "execution": {
     "iopub.execute_input": "2023-05-07T22:47:28.700011Z",
     "iopub.status.busy": "2023-05-07T22:47:28.699664Z",
     "iopub.status.idle": "2023-05-07T22:47:28.704813Z",
     "shell.execute_reply": "2023-05-07T22:47:28.704135Z"
    },
    "papermill": {
     "duration": 0.025234,
     "end_time": "2023-05-07T22:47:28.706722",
     "exception": false,
     "start_time": "2023-05-07T22:47:28.681488",
     "status": "completed"
    },
    "tags": []
   },
   "outputs": [
    {
     "name": "stdout",
     "output_type": "stream",
     "text": [
      "['TransactionID', 'TransactionAmt', 'dist1', 'dist2', 'C1', 'C2', 'C3', 'C4', 'C5', 'C6', 'C7', 'C8', 'C9', 'C10', 'C11', 'C12', 'C13', 'C14', 'D1', 'D2', 'D3', 'D4', 'D5', 'D6', 'D7', 'D8', 'D9', 'D10', 'D11', 'D12', 'D13', 'D14', 'D15', 'M1', 'M2', 'M3', 'M4', 'M5', 'M6', 'M7', 'M8', 'M9', 'V1', 'V2', 'V3', 'V4', 'V5', 'V6', 'V7', 'V8', 'V9', 'V10', 'V11', 'V12', 'V13', 'V14', 'V15', 'V16', 'V17', 'V18', 'V19', 'V20', 'V21', 'V22', 'V23', 'V24', 'V25', 'V26', 'V27', 'V28', 'V29', 'V30', 'V31', 'V32', 'V33', 'V34', 'V35', 'V36', 'V37', 'V38', 'V39', 'V40', 'V41', 'V42', 'V43', 'V44', 'V45', 'V46', 'V47', 'V48', 'V49', 'V50', 'V51', 'V52', 'V53', 'V54', 'V55', 'V56', 'V57', 'V58', 'V59', 'V60', 'V61', 'V62', 'V63', 'V64', 'V65', 'V66', 'V67', 'V68', 'V69', 'V70', 'V71', 'V72', 'V73', 'V74', 'V75', 'V76', 'V77', 'V78', 'V79', 'V80', 'V81', 'V82', 'V83', 'V84', 'V85', 'V86', 'V87', 'V88', 'V89', 'V90', 'V91', 'V92', 'V93', 'V94', 'V95', 'V96', 'V97', 'V98', 'V99', 'V100', 'V101', 'V102', 'V103', 'V104', 'V105', 'V106', 'V107', 'V108', 'V109', 'V110', 'V111', 'V112', 'V113', 'V114', 'V115', 'V116', 'V117', 'V118', 'V119', 'V120', 'V121', 'V122', 'V123', 'V124', 'V125', 'V126', 'V127', 'V128', 'V129', 'V130', 'V131', 'V132', 'V133', 'V134', 'V135', 'V136', 'V137', 'V138', 'V139', 'V140', 'V141', 'V142', 'V143', 'V144', 'V145', 'V146', 'V147', 'V148', 'V149', 'V150', 'V151', 'V152', 'V153', 'V154', 'V155', 'V156', 'V157', 'V158', 'V159', 'V160', 'V161', 'V162', 'V163', 'V164', 'V165', 'V166', 'V167', 'V168', 'V169', 'V170', 'V171', 'V172', 'V173', 'V174', 'V175', 'V176', 'V177', 'V178', 'V179', 'V180', 'V181', 'V182', 'V183', 'V184', 'V185', 'V186', 'V187', 'V188', 'V189', 'V190', 'V191', 'V192', 'V193', 'V194', 'V195', 'V196', 'V197', 'V198', 'V199', 'V200', 'V201', 'V202', 'V203', 'V204', 'V205', 'V206', 'V207', 'V208', 'V209', 'V210', 'V211', 'V212', 'V213', 'V214', 'V215', 'V216', 'V217', 'V218', 'V219', 'V220', 'V221', 'V222', 'V223', 'V224', 'V225', 'V226', 'V227', 'V228', 'V229', 'V230', 'V231', 'V232', 'V233', 'V234', 'V235', 'V236', 'V237', 'V238', 'V239', 'V240', 'V241', 'V242', 'V243', 'V244', 'V245', 'V246', 'V247', 'V248', 'V249', 'V250', 'V251', 'V252', 'V253', 'V254', 'V255', 'V256', 'V257', 'V258', 'V259', 'V260', 'V261', 'V262', 'V263', 'V264', 'V265', 'V266', 'V267', 'V268', 'V269', 'V270', 'V271', 'V272', 'V273', 'V274', 'V275', 'V276', 'V277', 'V278', 'V279', 'V280', 'V281', 'V282', 'V283', 'V284', 'V285', 'V286', 'V287', 'V288', 'V289', 'V290', 'V291', 'V292', 'V293', 'V294', 'V295', 'V296', 'V297', 'V298', 'V299', 'V300', 'V301', 'V302', 'V303', 'V304', 'V305', 'V306', 'V307', 'V308', 'V309', 'V310', 'V311', 'V312', 'V313', 'V314', 'V315', 'V316', 'V317', 'V318', 'V319', 'V320', 'V321', 'V322', 'V323', 'V324', 'V325', 'V326', 'V327', 'V328', 'V329', 'V330', 'V331', 'V332', 'V333', 'V334', 'V335', 'V336', 'V337', 'V338', 'V339']\n"
     ]
    }
   ],
   "source": [
    "feature_cols = [col for col in transaction_df.columns if col not in non_feature_cols]\n",
    "print(feature_cols)"
   ]
  },
  {
   "cell_type": "code",
   "execution_count": 10,
   "id": "47bc7cb4",
   "metadata": {
    "execution": {
     "iopub.execute_input": "2023-05-07T22:47:28.743108Z",
     "iopub.status.busy": "2023-05-07T22:47:28.742439Z",
     "iopub.status.idle": "2023-05-07T22:47:32.978681Z",
     "shell.execute_reply": "2023-05-07T22:47:32.977824Z"
    },
    "papermill": {
     "duration": 4.256976,
     "end_time": "2023-05-07T22:47:32.981057",
     "exception": false,
     "start_time": "2023-05-07T22:47:28.724081",
     "status": "completed"
    },
    "tags": []
   },
   "outputs": [],
   "source": [
    "features = pd.get_dummies(transaction_df[feature_cols], columns=cat_cols).fillna(0)\n",
    "features['TransactionAmt'] = features['TransactionAmt'].apply(np.log10)"
   ]
  },
  {
   "cell_type": "code",
   "execution_count": 11,
   "id": "cd368721",
   "metadata": {
    "execution": {
     "iopub.execute_input": "2023-05-07T22:47:33.017498Z",
     "iopub.status.busy": "2023-05-07T22:47:33.016764Z",
     "iopub.status.idle": "2023-05-07T22:47:33.023979Z",
     "shell.execute_reply": "2023-05-07T22:47:33.022969Z"
    },
    "papermill": {
     "duration": 0.028218,
     "end_time": "2023-05-07T22:47:33.026222",
     "exception": false,
     "start_time": "2023-05-07T22:47:32.998004",
     "status": "completed"
    },
    "tags": []
   },
   "outputs": [
    {
     "data": {
      "text/plain": [
       "(590540, 391)"
      ]
     },
     "execution_count": 11,
     "metadata": {},
     "output_type": "execute_result"
    }
   ],
   "source": [
    "features.shape"
   ]
  },
  {
   "cell_type": "code",
   "execution_count": 12,
   "id": "8f138fc9",
   "metadata": {
    "execution": {
     "iopub.execute_input": "2023-05-07T22:47:33.063572Z",
     "iopub.status.busy": "2023-05-07T22:47:33.062773Z",
     "iopub.status.idle": "2023-05-07T22:47:33.068733Z",
     "shell.execute_reply": "2023-05-07T22:47:33.067760Z"
    },
    "papermill": {
     "duration": 0.026927,
     "end_time": "2023-05-07T22:47:33.070894",
     "exception": false,
     "start_time": "2023-05-07T22:47:33.043967",
     "status": "completed"
    },
    "tags": []
   },
   "outputs": [
    {
     "name": "stdout",
     "output_type": "stream",
     "text": [
      "['TransactionID', 'TransactionAmt', 'dist1', 'dist2', 'C1', 'C2', 'C3', 'C4', 'C5', 'C6', 'C7', 'C8', 'C9', 'C10', 'C11', 'C12', 'C13', 'C14', 'D1', 'D2', 'D3', 'D4', 'D5', 'D6', 'D7', 'D8', 'D9', 'D10', 'D11', 'D12', 'D13', 'D14', 'D15', 'V1', 'V2', 'V3', 'V4', 'V5', 'V6', 'V7', 'V8', 'V9', 'V10', 'V11', 'V12', 'V13', 'V14', 'V15', 'V16', 'V17', 'V18', 'V19', 'V20', 'V21', 'V22', 'V23', 'V24', 'V25', 'V26', 'V27', 'V28', 'V29', 'V30', 'V31', 'V32', 'V33', 'V34', 'V35', 'V36', 'V37', 'V38', 'V39', 'V40', 'V41', 'V42', 'V43', 'V44', 'V45', 'V46', 'V47', 'V48', 'V49', 'V50', 'V51', 'V52', 'V53', 'V54', 'V55', 'V56', 'V57', 'V58', 'V59', 'V60', 'V61', 'V62', 'V63', 'V64', 'V65', 'V66', 'V67', 'V68', 'V69', 'V70', 'V71', 'V72', 'V73', 'V74', 'V75', 'V76', 'V77', 'V78', 'V79', 'V80', 'V81', 'V82', 'V83', 'V84', 'V85', 'V86', 'V87', 'V88', 'V89', 'V90', 'V91', 'V92', 'V93', 'V94', 'V95', 'V96', 'V97', 'V98', 'V99', 'V100', 'V101', 'V102', 'V103', 'V104', 'V105', 'V106', 'V107', 'V108', 'V109', 'V110', 'V111', 'V112', 'V113', 'V114', 'V115', 'V116', 'V117', 'V118', 'V119', 'V120', 'V121', 'V122', 'V123', 'V124', 'V125', 'V126', 'V127', 'V128', 'V129', 'V130', 'V131', 'V132', 'V133', 'V134', 'V135', 'V136', 'V137', 'V138', 'V139', 'V140', 'V141', 'V142', 'V143', 'V144', 'V145', 'V146', 'V147', 'V148', 'V149', 'V150', 'V151', 'V152', 'V153', 'V154', 'V155', 'V156', 'V157', 'V158', 'V159', 'V160', 'V161', 'V162', 'V163', 'V164', 'V165', 'V166', 'V167', 'V168', 'V169', 'V170', 'V171', 'V172', 'V173', 'V174', 'V175', 'V176', 'V177', 'V178', 'V179', 'V180', 'V181', 'V182', 'V183', 'V184', 'V185', 'V186', 'V187', 'V188', 'V189', 'V190', 'V191', 'V192', 'V193', 'V194', 'V195', 'V196', 'V197', 'V198', 'V199', 'V200', 'V201', 'V202', 'V203', 'V204', 'V205', 'V206', 'V207', 'V208', 'V209', 'V210', 'V211', 'V212', 'V213', 'V214', 'V215', 'V216', 'V217', 'V218', 'V219', 'V220', 'V221', 'V222', 'V223', 'V224', 'V225', 'V226', 'V227', 'V228', 'V229', 'V230', 'V231', 'V232', 'V233', 'V234', 'V235', 'V236', 'V237', 'V238', 'V239', 'V240', 'V241', 'V242', 'V243', 'V244', 'V245', 'V246', 'V247', 'V248', 'V249', 'V250', 'V251', 'V252', 'V253', 'V254', 'V255', 'V256', 'V257', 'V258', 'V259', 'V260', 'V261', 'V262', 'V263', 'V264', 'V265', 'V266', 'V267', 'V268', 'V269', 'V270', 'V271', 'V272', 'V273', 'V274', 'V275', 'V276', 'V277', 'V278', 'V279', 'V280', 'V281', 'V282', 'V283', 'V284', 'V285', 'V286', 'V287', 'V288', 'V289', 'V290', 'V291', 'V292', 'V293', 'V294', 'V295', 'V296', 'V297', 'V298', 'V299', 'V300', 'V301', 'V302', 'V303', 'V304', 'V305', 'V306', 'V307', 'V308', 'V309', 'V310', 'V311', 'V312', 'V313', 'V314', 'V315', 'V316', 'V317', 'V318', 'V319', 'V320', 'V321', 'V322', 'V323', 'V324', 'V325', 'V326', 'V327', 'V328', 'V329', 'V330', 'V331', 'V332', 'V333', 'V334', 'V335', 'V336', 'V337', 'V338', 'V339', 'M1_F', 'M1_T', 'M2_F', 'M2_T', 'M3_F', 'M3_T', 'M4_M0', 'M4_M1', 'M4_M2', 'M5_F', 'M5_T', 'M6_F', 'M6_T', 'M7_F', 'M7_T', 'M8_F', 'M8_T', 'M9_F', 'M9_T']\n"
     ]
    }
   ],
   "source": [
    "print(list(features.columns))"
   ]
  },
  {
   "cell_type": "code",
   "execution_count": 13,
   "id": "25519f09",
   "metadata": {
    "execution": {
     "iopub.execute_input": "2023-05-07T22:47:33.108023Z",
     "iopub.status.busy": "2023-05-07T22:47:33.106987Z",
     "iopub.status.idle": "2023-05-07T22:49:35.838020Z",
     "shell.execute_reply": "2023-05-07T22:49:35.835664Z"
    },
    "papermill": {
     "duration": 122.75528,
     "end_time": "2023-05-07T22:49:35.843889",
     "exception": false,
     "start_time": "2023-05-07T22:47:33.088609",
     "status": "completed"
    },
    "tags": []
   },
   "outputs": [],
   "source": [
    "features.to_csv('/kaggle/working/features.csv', index=False, header=False)"
   ]
  },
  {
   "cell_type": "code",
   "execution_count": 14,
   "id": "79929a0b",
   "metadata": {
    "execution": {
     "iopub.execute_input": "2023-05-07T22:49:35.886747Z",
     "iopub.status.busy": "2023-05-07T22:49:35.886147Z",
     "iopub.status.idle": "2023-05-07T22:49:36.547214Z",
     "shell.execute_reply": "2023-05-07T22:49:36.545985Z"
    },
    "papermill": {
     "duration": 0.683988,
     "end_time": "2023-05-07T22:49:36.549921",
     "exception": false,
     "start_time": "2023-05-07T22:49:35.865933",
     "status": "completed"
    },
    "tags": []
   },
   "outputs": [],
   "source": [
    "transaction_df[['TransactionID', 'isFraud']].to_csv('/kaggle/working/tags.csv', index=False)"
   ]
  },
  {
   "cell_type": "code",
   "execution_count": 15,
   "id": "303936dd",
   "metadata": {
    "execution": {
     "iopub.execute_input": "2023-05-07T22:49:36.587012Z",
     "iopub.status.busy": "2023-05-07T22:49:36.586370Z",
     "iopub.status.idle": "2023-05-07T22:49:36.591935Z",
     "shell.execute_reply": "2023-05-07T22:49:36.591089Z"
    },
    "papermill": {
     "duration": 0.027215,
     "end_time": "2023-05-07T22:49:36.594487",
     "exception": false,
     "start_time": "2023-05-07T22:49:36.567272",
     "status": "completed"
    },
    "tags": []
   },
   "outputs": [
    {
     "name": "stdout",
     "output_type": "stream",
     "text": [
      "['card1', 'card2', 'card3', 'card4', 'card5', 'card6', 'ProductCD', 'addr1', 'addr2', 'P_emaildomain', 'R_emaildomain', 'TransactionID', 'id_01', 'id_02', 'id_03', 'id_04', 'id_05', 'id_06', 'id_07', 'id_08', 'id_09', 'id_10', 'id_11', 'id_12', 'id_13', 'id_14', 'id_15', 'id_16', 'id_17', 'id_18', 'id_19', 'id_20', 'id_21', 'id_22', 'id_23', 'id_24', 'id_25', 'id_26', 'id_27', 'id_28', 'id_29', 'id_30', 'id_31', 'id_32', 'id_33', 'id_34', 'id_35', 'id_36', 'id_37', 'id_38', 'DeviceType', 'DeviceInfo']\n"
     ]
    }
   ],
   "source": [
    "edge_types = id_cols + list(identity_df.columns)\n",
    "print(edge_types)"
   ]
  },
  {
   "cell_type": "code",
   "execution_count": 16,
   "id": "2be48371",
   "metadata": {
    "execution": {
     "iopub.execute_input": "2023-05-07T22:49:36.631896Z",
     "iopub.status.busy": "2023-05-07T22:49:36.630720Z",
     "iopub.status.idle": "2023-05-07T22:49:37.289900Z",
     "shell.execute_reply": "2023-05-07T22:49:37.288963Z"
    },
    "papermill": {
     "duration": 0.679782,
     "end_time": "2023-05-07T22:49:37.291857",
     "exception": false,
     "start_time": "2023-05-07T22:49:36.612075",
     "status": "completed"
    },
    "tags": []
   },
   "outputs": [
    {
     "data": {
      "text/html": [
       "<div>\n",
       "<style scoped>\n",
       "    .dataframe tbody tr th:only-of-type {\n",
       "        vertical-align: middle;\n",
       "    }\n",
       "\n",
       "    .dataframe tbody tr th {\n",
       "        vertical-align: top;\n",
       "    }\n",
       "\n",
       "    .dataframe thead th {\n",
       "        text-align: right;\n",
       "    }\n",
       "</style>\n",
       "<table border=\"1\" class=\"dataframe\">\n",
       "  <thead>\n",
       "    <tr style=\"text-align: right;\">\n",
       "      <th></th>\n",
       "      <th>TransactionID</th>\n",
       "      <th>card1</th>\n",
       "      <th>card2</th>\n",
       "      <th>card3</th>\n",
       "      <th>card4</th>\n",
       "      <th>card5</th>\n",
       "      <th>card6</th>\n",
       "      <th>ProductCD</th>\n",
       "      <th>addr1</th>\n",
       "      <th>addr2</th>\n",
       "      <th>...</th>\n",
       "      <th>id_31</th>\n",
       "      <th>id_32</th>\n",
       "      <th>id_33</th>\n",
       "      <th>id_34</th>\n",
       "      <th>id_35</th>\n",
       "      <th>id_36</th>\n",
       "      <th>id_37</th>\n",
       "      <th>id_38</th>\n",
       "      <th>DeviceType</th>\n",
       "      <th>DeviceInfo</th>\n",
       "    </tr>\n",
       "  </thead>\n",
       "  <tbody>\n",
       "    <tr>\n",
       "      <th>0</th>\n",
       "      <td>2987000</td>\n",
       "      <td>13926</td>\n",
       "      <td>NaN</td>\n",
       "      <td>150.0</td>\n",
       "      <td>discover</td>\n",
       "      <td>142.0</td>\n",
       "      <td>credit</td>\n",
       "      <td>W</td>\n",
       "      <td>315.0</td>\n",
       "      <td>87.0</td>\n",
       "      <td>...</td>\n",
       "      <td>NaN</td>\n",
       "      <td>NaN</td>\n",
       "      <td>NaN</td>\n",
       "      <td>NaN</td>\n",
       "      <td>NaN</td>\n",
       "      <td>NaN</td>\n",
       "      <td>NaN</td>\n",
       "      <td>NaN</td>\n",
       "      <td>NaN</td>\n",
       "      <td>NaN</td>\n",
       "    </tr>\n",
       "    <tr>\n",
       "      <th>1</th>\n",
       "      <td>2987001</td>\n",
       "      <td>2755</td>\n",
       "      <td>404.0</td>\n",
       "      <td>150.0</td>\n",
       "      <td>mastercard</td>\n",
       "      <td>102.0</td>\n",
       "      <td>credit</td>\n",
       "      <td>W</td>\n",
       "      <td>325.0</td>\n",
       "      <td>87.0</td>\n",
       "      <td>...</td>\n",
       "      <td>NaN</td>\n",
       "      <td>NaN</td>\n",
       "      <td>NaN</td>\n",
       "      <td>NaN</td>\n",
       "      <td>NaN</td>\n",
       "      <td>NaN</td>\n",
       "      <td>NaN</td>\n",
       "      <td>NaN</td>\n",
       "      <td>NaN</td>\n",
       "      <td>NaN</td>\n",
       "    </tr>\n",
       "    <tr>\n",
       "      <th>2</th>\n",
       "      <td>2987002</td>\n",
       "      <td>4663</td>\n",
       "      <td>490.0</td>\n",
       "      <td>150.0</td>\n",
       "      <td>visa</td>\n",
       "      <td>166.0</td>\n",
       "      <td>debit</td>\n",
       "      <td>W</td>\n",
       "      <td>330.0</td>\n",
       "      <td>87.0</td>\n",
       "      <td>...</td>\n",
       "      <td>NaN</td>\n",
       "      <td>NaN</td>\n",
       "      <td>NaN</td>\n",
       "      <td>NaN</td>\n",
       "      <td>NaN</td>\n",
       "      <td>NaN</td>\n",
       "      <td>NaN</td>\n",
       "      <td>NaN</td>\n",
       "      <td>NaN</td>\n",
       "      <td>NaN</td>\n",
       "    </tr>\n",
       "    <tr>\n",
       "      <th>3</th>\n",
       "      <td>2987003</td>\n",
       "      <td>18132</td>\n",
       "      <td>567.0</td>\n",
       "      <td>150.0</td>\n",
       "      <td>mastercard</td>\n",
       "      <td>117.0</td>\n",
       "      <td>debit</td>\n",
       "      <td>W</td>\n",
       "      <td>476.0</td>\n",
       "      <td>87.0</td>\n",
       "      <td>...</td>\n",
       "      <td>NaN</td>\n",
       "      <td>NaN</td>\n",
       "      <td>NaN</td>\n",
       "      <td>NaN</td>\n",
       "      <td>NaN</td>\n",
       "      <td>NaN</td>\n",
       "      <td>NaN</td>\n",
       "      <td>NaN</td>\n",
       "      <td>NaN</td>\n",
       "      <td>NaN</td>\n",
       "    </tr>\n",
       "    <tr>\n",
       "      <th>4</th>\n",
       "      <td>2987004</td>\n",
       "      <td>4497</td>\n",
       "      <td>514.0</td>\n",
       "      <td>150.0</td>\n",
       "      <td>mastercard</td>\n",
       "      <td>102.0</td>\n",
       "      <td>credit</td>\n",
       "      <td>H</td>\n",
       "      <td>420.0</td>\n",
       "      <td>87.0</td>\n",
       "      <td>...</td>\n",
       "      <td>samsung browser 6.2</td>\n",
       "      <td>32.0</td>\n",
       "      <td>2220x1080</td>\n",
       "      <td>match_status:2</td>\n",
       "      <td>T</td>\n",
       "      <td>F</td>\n",
       "      <td>T</td>\n",
       "      <td>T</td>\n",
       "      <td>mobile</td>\n",
       "      <td>SAMSUNG SM-G892A Build/NRD90M</td>\n",
       "    </tr>\n",
       "  </tbody>\n",
       "</table>\n",
       "<p>5 rows × 52 columns</p>\n",
       "</div>"
      ],
      "text/plain": [
       "   TransactionID  card1  card2  card3       card4  card5   card6 ProductCD  \\\n",
       "0        2987000  13926    NaN  150.0    discover  142.0  credit         W   \n",
       "1        2987001   2755  404.0  150.0  mastercard  102.0  credit         W   \n",
       "2        2987002   4663  490.0  150.0        visa  166.0   debit         W   \n",
       "3        2987003  18132  567.0  150.0  mastercard  117.0   debit         W   \n",
       "4        2987004   4497  514.0  150.0  mastercard  102.0  credit         H   \n",
       "\n",
       "   addr1  addr2  ...                id_31 id_32      id_33           id_34  \\\n",
       "0  315.0   87.0  ...                  NaN   NaN        NaN             NaN   \n",
       "1  325.0   87.0  ...                  NaN   NaN        NaN             NaN   \n",
       "2  330.0   87.0  ...                  NaN   NaN        NaN             NaN   \n",
       "3  476.0   87.0  ...                  NaN   NaN        NaN             NaN   \n",
       "4  420.0   87.0  ...  samsung browser 6.2  32.0  2220x1080  match_status:2   \n",
       "\n",
       "   id_35  id_36  id_37  id_38  DeviceType                     DeviceInfo  \n",
       "0    NaN    NaN    NaN    NaN         NaN                            NaN  \n",
       "1    NaN    NaN    NaN    NaN         NaN                            NaN  \n",
       "2    NaN    NaN    NaN    NaN         NaN                            NaN  \n",
       "3    NaN    NaN    NaN    NaN         NaN                            NaN  \n",
       "4      T      F      T      T      mobile  SAMSUNG SM-G892A Build/NRD90M  \n",
       "\n",
       "[5 rows x 52 columns]"
      ]
     },
     "execution_count": 16,
     "metadata": {},
     "output_type": "execute_result"
    }
   ],
   "source": [
    "all_id_cols = ['TransactionID'] + id_cols\n",
    "full_identity_df = transaction_df[all_id_cols].merge(identity_df, on='TransactionID', how='left')\n",
    "full_identity_df.head(5)"
   ]
  },
  {
   "cell_type": "code",
   "execution_count": 17,
   "id": "fe835f0a",
   "metadata": {
    "execution": {
     "iopub.execute_input": "2023-05-07T22:49:37.330562Z",
     "iopub.status.busy": "2023-05-07T22:49:37.329595Z",
     "iopub.status.idle": "2023-05-07T22:49:54.295886Z",
     "shell.execute_reply": "2023-05-07T22:49:54.294698Z"
    },
    "papermill": {
     "duration": 16.988297,
     "end_time": "2023-05-07T22:49:54.298528",
     "exception": false,
     "start_time": "2023-05-07T22:49:37.310231",
     "status": "completed"
    },
    "tags": []
   },
   "outputs": [
    {
     "name": "stdout",
     "output_type": "stream",
     "text": [
      "{'card1':         TransactionID  card1\n",
      "0             2987000  13926\n",
      "1             2987001   2755\n",
      "2             2987002   4663\n",
      "3             2987003  18132\n",
      "4             2987004   4497\n",
      "...               ...    ...\n",
      "590535        3577535   6550\n",
      "590536        3577536  10444\n",
      "590537        3577537  12037\n",
      "590538        3577538   7826\n",
      "590539        3577539  15066\n",
      "\n",
      "[590540 rows x 2 columns], 'card2':         TransactionID  card2\n",
      "1             2987001  404.0\n",
      "2             2987002  490.0\n",
      "3             2987003  567.0\n",
      "4             2987004  514.0\n",
      "5             2987005  555.0\n",
      "...               ...    ...\n",
      "590534        3577534  408.0\n",
      "590536        3577536  225.0\n",
      "590537        3577537  595.0\n",
      "590538        3577538  481.0\n",
      "590539        3577539  170.0\n",
      "\n",
      "[581607 rows x 2 columns], 'card3':         TransactionID  card3\n",
      "0             2987000  150.0\n",
      "1             2987001  150.0\n",
      "2             2987002  150.0\n",
      "3             2987003  150.0\n",
      "4             2987004  150.0\n",
      "...               ...    ...\n",
      "590535        3577535  150.0\n",
      "590536        3577536  150.0\n",
      "590537        3577537  150.0\n",
      "590538        3577538  150.0\n",
      "590539        3577539  150.0\n",
      "\n",
      "[588975 rows x 2 columns], 'card4':         TransactionID       card4\n",
      "0             2987000    discover\n",
      "1             2987001  mastercard\n",
      "2             2987002        visa\n",
      "3             2987003  mastercard\n",
      "4             2987004  mastercard\n",
      "...               ...         ...\n",
      "590535        3577535        visa\n",
      "590536        3577536  mastercard\n",
      "590537        3577537  mastercard\n",
      "590538        3577538  mastercard\n",
      "590539        3577539  mastercard\n",
      "\n",
      "[588963 rows x 2 columns], 'card5':         TransactionID  card5\n",
      "0             2987000  142.0\n",
      "1             2987001  102.0\n",
      "2             2987002  166.0\n",
      "3             2987003  117.0\n",
      "4             2987004  102.0\n",
      "...               ...    ...\n",
      "590535        3577535  226.0\n",
      "590536        3577536  224.0\n",
      "590537        3577537  224.0\n",
      "590538        3577538  224.0\n",
      "590539        3577539  102.0\n",
      "\n",
      "[586281 rows x 2 columns], 'card6':         TransactionID   card6\n",
      "0             2987000  credit\n",
      "1             2987001  credit\n",
      "2             2987002   debit\n",
      "3             2987003   debit\n",
      "4             2987004  credit\n",
      "...               ...     ...\n",
      "590535        3577535   debit\n",
      "590536        3577536   debit\n",
      "590537        3577537   debit\n",
      "590538        3577538   debit\n",
      "590539        3577539  credit\n",
      "\n",
      "[588969 rows x 2 columns], 'ProductCD':         TransactionID ProductCD\n",
      "0             2987000         W\n",
      "1             2987001         W\n",
      "2             2987002         W\n",
      "3             2987003         W\n",
      "4             2987004         H\n",
      "...               ...       ...\n",
      "590535        3577535         W\n",
      "590536        3577536         W\n",
      "590537        3577537         W\n",
      "590538        3577538         W\n",
      "590539        3577539         W\n",
      "\n",
      "[590540 rows x 2 columns], 'addr1':         TransactionID  addr1\n",
      "0             2987000  315.0\n",
      "1             2987001  325.0\n",
      "2             2987002  330.0\n",
      "3             2987003  476.0\n",
      "4             2987004  420.0\n",
      "...               ...    ...\n",
      "590535        3577535  272.0\n",
      "590536        3577536  204.0\n",
      "590537        3577537  231.0\n",
      "590538        3577538  387.0\n",
      "590539        3577539  299.0\n",
      "\n",
      "[524834 rows x 2 columns], 'addr2':         TransactionID  addr2\n",
      "0             2987000   87.0\n",
      "1             2987001   87.0\n",
      "2             2987002   87.0\n",
      "3             2987003   87.0\n",
      "4             2987004   87.0\n",
      "...               ...    ...\n",
      "590535        3577535   87.0\n",
      "590536        3577536   87.0\n",
      "590537        3577537   87.0\n",
      "590538        3577538   87.0\n",
      "590539        3577539   87.0\n",
      "\n",
      "[524834 rows x 2 columns], 'P_emaildomain':         TransactionID P_emaildomain\n",
      "1             2987001     gmail.com\n",
      "2             2987002   outlook.com\n",
      "3             2987003     yahoo.com\n",
      "4             2987004     gmail.com\n",
      "5             2987005     gmail.com\n",
      "...               ...           ...\n",
      "590534        3577534     gmail.com\n",
      "590536        3577536     gmail.com\n",
      "590537        3577537     gmail.com\n",
      "590538        3577538       aol.com\n",
      "590539        3577539     gmail.com\n",
      "\n",
      "[496084 rows x 2 columns], 'R_emaildomain':         TransactionID  R_emaildomain\n",
      "10            2987010      gmail.com\n",
      "11            2987011    hotmail.com\n",
      "38            2987038      gmail.com\n",
      "40            2987040      gmail.com\n",
      "48            2987048    outlook.com\n",
      "...               ...            ...\n",
      "590521        3577521       yahoo.fr\n",
      "590526        3577526      gmail.com\n",
      "590529        3577529      gmail.com\n",
      "590531        3577531  anonymous.com\n",
      "590534        3577534      gmail.com\n",
      "\n",
      "[137291 rows x 2 columns], 'TransactionID':         TransactionID  TransactionID\n",
      "0             2987000        2987000\n",
      "1             2987001        2987001\n",
      "2             2987002        2987002\n",
      "3             2987003        2987003\n",
      "4             2987004        2987004\n",
      "...               ...            ...\n",
      "590535        3577535        3577535\n",
      "590536        3577536        3577536\n",
      "590537        3577537        3577537\n",
      "590538        3577538        3577538\n",
      "590539        3577539        3577539\n",
      "\n",
      "[590540 rows x 2 columns], 'id_01':         TransactionID  id_01\n",
      "4             2987004    0.0\n",
      "8             2987008   -5.0\n",
      "10            2987010   -5.0\n",
      "11            2987011   -5.0\n",
      "16            2987016    0.0\n",
      "...               ...    ...\n",
      "590521        3577521  -15.0\n",
      "590526        3577526   -5.0\n",
      "590529        3577529  -20.0\n",
      "590531        3577531   -5.0\n",
      "590534        3577534  -45.0\n",
      "\n",
      "[144233 rows x 2 columns], 'id_02':         TransactionID     id_02\n",
      "4             2987004   70787.0\n",
      "8             2987008   98945.0\n",
      "10            2987010  191631.0\n",
      "11            2987011  221832.0\n",
      "16            2987016    7460.0\n",
      "...               ...       ...\n",
      "590521        3577521  145955.0\n",
      "590526        3577526  172059.0\n",
      "590529        3577529  632381.0\n",
      "590531        3577531   55528.0\n",
      "590534        3577534  339406.0\n",
      "\n",
      "[140872 rows x 2 columns], 'id_03':         TransactionID  id_03\n",
      "10            2987010    0.0\n",
      "16            2987016    0.0\n",
      "17            2987017    3.0\n",
      "38            2987038    0.0\n",
      "40            2987040    0.0\n",
      "...               ...    ...\n",
      "590501        3577501    0.0\n",
      "590506        3577506    0.0\n",
      "590509        3577509    0.0\n",
      "590521        3577521    0.0\n",
      "590531        3577531    0.0\n",
      "\n",
      "[66324 rows x 2 columns], 'id_04':         TransactionID  id_04\n",
      "10            2987010    0.0\n",
      "16            2987016    0.0\n",
      "17            2987017    0.0\n",
      "38            2987038    0.0\n",
      "40            2987040    0.0\n",
      "...               ...    ...\n",
      "590501        3577501    0.0\n",
      "590506        3577506    0.0\n",
      "590509        3577509    0.0\n",
      "590521        3577521    0.0\n",
      "590531        3577531    0.0\n",
      "\n",
      "[66324 rows x 2 columns], 'id_05':         TransactionID  id_05\n",
      "8             2987008    0.0\n",
      "10            2987010    0.0\n",
      "11            2987011    0.0\n",
      "16            2987016    1.0\n",
      "17            2987017    3.0\n",
      "...               ...    ...\n",
      "590521        3577521    0.0\n",
      "590526        3577526    1.0\n",
      "590529        3577529   -1.0\n",
      "590531        3577531    0.0\n",
      "590534        3577534  -10.0\n",
      "\n",
      "[136865 rows x 2 columns], 'id_06':         TransactionID  id_06\n",
      "8             2987008   -5.0\n",
      "10            2987010    0.0\n",
      "11            2987011   -6.0\n",
      "16            2987016    0.0\n",
      "17            2987017    0.0\n",
      "...               ...    ...\n",
      "590521        3577521    0.0\n",
      "590526        3577526   -5.0\n",
      "590529        3577529  -36.0\n",
      "590531        3577531   -7.0\n",
      "590534        3577534 -100.0\n",
      "\n",
      "[136865 rows x 2 columns], 'id_07':         TransactionID  id_07\n",
      "99            2987099   22.0\n",
      "188           2987188    6.0\n",
      "1062          2988062   -1.0\n",
      "1064          2988064   -1.0\n",
      "1389          2988389    4.0\n",
      "...               ...    ...\n",
      "589701        3576701   10.0\n",
      "589874        3576874   15.0\n",
      "590384        3577384   39.0\n",
      "590442        3577442   14.0\n",
      "590451        3577451   12.0\n",
      "\n",
      "[5155 rows x 2 columns], 'id_08':         TransactionID  id_08\n",
      "99            2987099  -34.0\n",
      "188           2987188  -55.0\n",
      "1062          2988062 -100.0\n",
      "1064          2988064 -100.0\n",
      "1389          2988389  -15.0\n",
      "...               ...    ...\n",
      "589701        3576701  -22.0\n",
      "589874        3576874 -100.0\n",
      "590384        3577384 -100.0\n",
      "590442        3577442  -24.0\n",
      "590451        3577451  -51.0\n",
      "\n",
      "[5155 rows x 2 columns], 'id_09':         TransactionID  id_09\n",
      "10            2987010    0.0\n",
      "16            2987016    0.0\n",
      "17            2987017    3.0\n",
      "38            2987038    0.0\n",
      "40            2987040    0.0\n",
      "...               ...    ...\n",
      "590501        3577501    0.0\n",
      "590506        3577506    0.0\n",
      "590509        3577509    0.0\n",
      "590521        3577521    0.0\n",
      "590531        3577531    0.0\n",
      "\n",
      "[74926 rows x 2 columns], 'id_10':         TransactionID  id_10\n",
      "10            2987010    0.0\n",
      "16            2987016    0.0\n",
      "17            2987017    0.0\n",
      "38            2987038    0.0\n",
      "40            2987040    0.0\n",
      "...               ...    ...\n",
      "590501        3577501    0.0\n",
      "590506        3577506    0.0\n",
      "590509        3577509    0.0\n",
      "590521        3577521    0.0\n",
      "590531        3577531    0.0\n",
      "\n",
      "[74926 rows x 2 columns], 'id_11':         TransactionID  id_11\n",
      "4             2987004  100.0\n",
      "8             2987008  100.0\n",
      "10            2987010  100.0\n",
      "11            2987011  100.0\n",
      "16            2987016  100.0\n",
      "...               ...    ...\n",
      "590521        3577521  100.0\n",
      "590526        3577526  100.0\n",
      "590529        3577529  100.0\n",
      "590531        3577531  100.0\n",
      "590534        3577534  100.0\n",
      "\n",
      "[140978 rows x 2 columns], 'id_12':         TransactionID     id_12\n",
      "4             2987004  NotFound\n",
      "8             2987008  NotFound\n",
      "10            2987010  NotFound\n",
      "11            2987011  NotFound\n",
      "16            2987016  NotFound\n",
      "...               ...       ...\n",
      "590521        3577521  NotFound\n",
      "590526        3577526  NotFound\n",
      "590529        3577529  NotFound\n",
      "590531        3577531  NotFound\n",
      "590534        3577534  NotFound\n",
      "\n",
      "[144233 rows x 2 columns], 'id_13':         TransactionID  id_13\n",
      "8             2987008   49.0\n",
      "10            2987010   52.0\n",
      "11            2987011   52.0\n",
      "17            2987017   52.0\n",
      "22            2987022   14.0\n",
      "...               ...    ...\n",
      "590521        3577521   27.0\n",
      "590526        3577526   27.0\n",
      "590529        3577529   27.0\n",
      "590531        3577531   27.0\n",
      "590534        3577534   27.0\n",
      "\n",
      "[127320 rows x 2 columns], 'id_14':         TransactionID  id_14\n",
      "4             2987004 -480.0\n",
      "8             2987008 -300.0\n",
      "16            2987016 -300.0\n",
      "17            2987017 -300.0\n",
      "38            2987038 -300.0\n",
      "...               ...    ...\n",
      "590465        3577465 -480.0\n",
      "590495        3577495 -420.0\n",
      "590506        3577506 -480.0\n",
      "590526        3577526 -300.0\n",
      "590531        3577531 -300.0\n",
      "\n",
      "[80044 rows x 2 columns], 'id_15':         TransactionID  id_15\n",
      "4             2987004    New\n",
      "8             2987008    New\n",
      "10            2987010  Found\n",
      "11            2987011    New\n",
      "16            2987016  Found\n",
      "...               ...    ...\n",
      "590521        3577521  Found\n",
      "590526        3577526    New\n",
      "590529        3577529    New\n",
      "590531        3577531  Found\n",
      "590534        3577534    New\n",
      "\n",
      "[140985 rows x 2 columns], 'id_16':         TransactionID     id_16\n",
      "4             2987004  NotFound\n",
      "8             2987008  NotFound\n",
      "10            2987010     Found\n",
      "11            2987011  NotFound\n",
      "16            2987016     Found\n",
      "...               ...       ...\n",
      "590521        3577521     Found\n",
      "590526        3577526  NotFound\n",
      "590529        3577529  NotFound\n",
      "590531        3577531     Found\n",
      "590534        3577534  NotFound\n",
      "\n",
      "[129340 rows x 2 columns], 'id_17':         TransactionID  id_17\n",
      "4             2987004  166.0\n",
      "8             2987008  166.0\n",
      "10            2987010  121.0\n",
      "11            2987011  225.0\n",
      "16            2987016  166.0\n",
      "...               ...    ...\n",
      "590521        3577521  225.0\n",
      "590526        3577526  166.0\n",
      "590529        3577529  225.0\n",
      "590531        3577531  166.0\n",
      "590534        3577534  225.0\n",
      "\n",
      "[139369 rows x 2 columns], 'id_18':         TransactionID  id_18\n",
      "16            2987016   15.0\n",
      "17            2987017   18.0\n",
      "38            2987038   15.0\n",
      "69            2987069   15.0\n",
      "70            2987070   13.0\n",
      "...               ...    ...\n",
      "590509        3577509   15.0\n",
      "590526        3577526   15.0\n",
      "590529        3577529   27.0\n",
      "590531        3577531   15.0\n",
      "590534        3577534   15.0\n",
      "\n",
      "[45113 rows x 2 columns], 'id_19':         TransactionID  id_19\n",
      "4             2987004  542.0\n",
      "8             2987008  621.0\n",
      "10            2987010  410.0\n",
      "11            2987011  176.0\n",
      "16            2987016  529.0\n",
      "...               ...    ...\n",
      "590521        3577521  427.0\n",
      "590526        3577526  352.0\n",
      "590529        3577529  567.0\n",
      "590531        3577531  352.0\n",
      "590534        3577534  417.0\n",
      "\n",
      "[139318 rows x 2 columns], 'id_20':         TransactionID  id_20\n",
      "4             2987004  144.0\n",
      "8             2987008  500.0\n",
      "10            2987010  142.0\n",
      "11            2987011  507.0\n",
      "16            2987016  575.0\n",
      "...               ...    ...\n",
      "590521        3577521  139.0\n",
      "590526        3577526  333.0\n",
      "590529        3577529  411.0\n",
      "590531        3577531  368.0\n",
      "590534        3577534  595.0\n",
      "\n",
      "[139261 rows x 2 columns], 'id_21':         TransactionID  id_21\n",
      "99            2987099  252.0\n",
      "188           2987188  252.0\n",
      "1062          2988062  657.0\n",
      "1064          2988064  657.0\n",
      "1389          2988389  724.0\n",
      "...               ...    ...\n",
      "589701        3576701  228.0\n",
      "589874        3576874  254.0\n",
      "590384        3577384  252.0\n",
      "590442        3577442  848.0\n",
      "590451        3577451  252.0\n",
      "\n",
      "[5159 rows x 2 columns], 'id_22':         TransactionID  id_22\n",
      "99            2987099   14.0\n",
      "188           2987188   14.0\n",
      "1062          2988062   41.0\n",
      "1064          2988064   41.0\n",
      "1389          2988389   14.0\n",
      "...               ...    ...\n",
      "589701        3576701   14.0\n",
      "589874        3576874   14.0\n",
      "590384        3577384   14.0\n",
      "590442        3577442   14.0\n",
      "590451        3577451   14.0\n",
      "\n",
      "[5169 rows x 2 columns], 'id_23':         TransactionID                 id_23\n",
      "99            2987099  IP_PROXY:TRANSPARENT\n",
      "188           2987188  IP_PROXY:TRANSPARENT\n",
      "1062          2988062    IP_PROXY:ANONYMOUS\n",
      "1064          2988064    IP_PROXY:ANONYMOUS\n",
      "1389          2988389    IP_PROXY:ANONYMOUS\n",
      "...               ...                   ...\n",
      "589701        3576701       IP_PROXY:HIDDEN\n",
      "589874        3576874    IP_PROXY:ANONYMOUS\n",
      "590384        3577384  IP_PROXY:TRANSPARENT\n",
      "590442        3577442    IP_PROXY:ANONYMOUS\n",
      "590451        3577451  IP_PROXY:TRANSPARENT\n",
      "\n",
      "[5169 rows x 2 columns], 'id_24':         TransactionID  id_24\n",
      "99            2987099   11.0\n",
      "188           2987188   11.0\n",
      "1062          2988062   15.0\n",
      "1064          2988064   15.0\n",
      "1389          2988389   15.0\n",
      "...               ...    ...\n",
      "589701        3576701   11.0\n",
      "589874        3576874   16.0\n",
      "590384        3577384   15.0\n",
      "590442        3577442   16.0\n",
      "590451        3577451   11.0\n",
      "\n",
      "[4747 rows x 2 columns], 'id_25':         TransactionID  id_25\n",
      "99            2987099  321.0\n",
      "188           2987188  321.0\n",
      "1062          2988062  161.0\n",
      "1064          2988064  161.0\n",
      "1389          2988389  460.0\n",
      "...               ...    ...\n",
      "589701        3576701  426.0\n",
      "589874        3576874  290.0\n",
      "590384        3577384  321.0\n",
      "590442        3577442  137.0\n",
      "590451        3577451  321.0\n",
      "\n",
      "[5132 rows x 2 columns], 'id_26':         TransactionID  id_26\n",
      "99            2987099  184.0\n",
      "188           2987188  102.0\n",
      "1062          2988062  159.0\n",
      "1064          2988064  159.0\n",
      "1389          2988389  142.0\n",
      "...               ...    ...\n",
      "589701        3576701  142.0\n",
      "589874        3576874  169.0\n",
      "590384        3577384  161.0\n",
      "590442        3577442  142.0\n",
      "590451        3577451  161.0\n",
      "\n",
      "[5163 rows x 2 columns], 'id_27':         TransactionID  id_27\n",
      "99            2987099  Found\n",
      "188           2987188  Found\n",
      "1062          2988062  Found\n",
      "1064          2988064  Found\n",
      "1389          2988389  Found\n",
      "...               ...    ...\n",
      "589701        3576701  Found\n",
      "589874        3576874  Found\n",
      "590384        3577384  Found\n",
      "590442        3577442  Found\n",
      "590451        3577451  Found\n",
      "\n",
      "[5169 rows x 2 columns], 'id_28':         TransactionID  id_28\n",
      "4             2987004    New\n",
      "8             2987008    New\n",
      "10            2987010  Found\n",
      "11            2987011    New\n",
      "16            2987016  Found\n",
      "...               ...    ...\n",
      "590521        3577521  Found\n",
      "590526        3577526    New\n",
      "590529        3577529    New\n",
      "590531        3577531  Found\n",
      "590534        3577534    New\n",
      "\n",
      "[140978 rows x 2 columns], 'id_29':         TransactionID     id_29\n",
      "4             2987004  NotFound\n",
      "8             2987008  NotFound\n",
      "10            2987010     Found\n",
      "11            2987011  NotFound\n",
      "16            2987016     Found\n",
      "...               ...       ...\n",
      "590521        3577521     Found\n",
      "590526        3577526  NotFound\n",
      "590529        3577529  NotFound\n",
      "590531        3577531     Found\n",
      "590534        3577534  NotFound\n",
      "\n",
      "[140978 rows x 2 columns], 'id_30':         TransactionID             id_30\n",
      "4             2987004       Android 7.0\n",
      "8             2987008        iOS 11.1.2\n",
      "16            2987016  Mac OS X 10_11_6\n",
      "17            2987017        Windows 10\n",
      "38            2987038           Android\n",
      "...               ...               ...\n",
      "590465        3577465  Mac OS X 10_13_4\n",
      "590495        3577495         Windows 7\n",
      "590506        3577506         Windows 7\n",
      "590526        3577526     Android 7.1.1\n",
      "590531        3577531   Mac OS X 10_9_5\n",
      "\n",
      "[77565 rows x 2 columns], 'id_31':         TransactionID                    id_31\n",
      "4             2987004      samsung browser 6.2\n",
      "8             2987008       mobile safari 11.0\n",
      "10            2987010              chrome 62.0\n",
      "11            2987011              chrome 62.0\n",
      "16            2987016              chrome 62.0\n",
      "...               ...                      ...\n",
      "590521        3577521  chrome 66.0 for android\n",
      "590526        3577526  chrome 55.0 for android\n",
      "590529        3577529  chrome 65.0 for android\n",
      "590531        3577531              chrome 66.0\n",
      "590534        3577534  chrome 66.0 for android\n",
      "\n",
      "[140282 rows x 2 columns], 'id_32':         TransactionID  id_32\n",
      "4             2987004   32.0\n",
      "8             2987008   32.0\n",
      "16            2987016   24.0\n",
      "17            2987017   24.0\n",
      "38            2987038   32.0\n",
      "...               ...    ...\n",
      "590465        3577465   24.0\n",
      "590495        3577495   24.0\n",
      "590506        3577506   24.0\n",
      "590526        3577526   32.0\n",
      "590531        3577531   24.0\n",
      "\n",
      "[77586 rows x 2 columns], 'id_33':         TransactionID      id_33\n",
      "4             2987004  2220x1080\n",
      "8             2987008   1334x750\n",
      "16            2987016   1280x800\n",
      "17            2987017   1366x768\n",
      "38            2987038  1920x1080\n",
      "...               ...        ...\n",
      "590465        3577465  2560x1440\n",
      "590495        3577495  1280x1024\n",
      "590506        3577506   1600x900\n",
      "590526        3577526    855x480\n",
      "590531        3577531  2560x1600\n",
      "\n",
      "[73289 rows x 2 columns], 'id_34':         TransactionID           id_34\n",
      "4             2987004  match_status:2\n",
      "8             2987008  match_status:1\n",
      "16            2987016  match_status:2\n",
      "17            2987017  match_status:2\n",
      "38            2987038  match_status:2\n",
      "...               ...             ...\n",
      "590465        3577465  match_status:2\n",
      "590495        3577495  match_status:2\n",
      "590506        3577506  match_status:2\n",
      "590526        3577526  match_status:2\n",
      "590531        3577531  match_status:2\n",
      "\n",
      "[77805 rows x 2 columns], 'id_35':         TransactionID id_35\n",
      "4             2987004     T\n",
      "8             2987008     T\n",
      "10            2987010     F\n",
      "11            2987011     F\n",
      "16            2987016     T\n",
      "...               ...   ...\n",
      "590521        3577521     F\n",
      "590526        3577526     T\n",
      "590529        3577529     F\n",
      "590531        3577531     T\n",
      "590534        3577534     F\n",
      "\n",
      "[140985 rows x 2 columns], 'id_36':         TransactionID id_36\n",
      "4             2987004     F\n",
      "8             2987008     F\n",
      "10            2987010     F\n",
      "11            2987011     F\n",
      "16            2987016     F\n",
      "...               ...   ...\n",
      "590521        3577521     F\n",
      "590526        3577526     F\n",
      "590529        3577529     F\n",
      "590531        3577531     F\n",
      "590534        3577534     F\n",
      "\n",
      "[140985 rows x 2 columns], 'id_37':         TransactionID id_37\n",
      "4             2987004     T\n",
      "8             2987008     F\n",
      "10            2987010     T\n",
      "11            2987011     T\n",
      "16            2987016     T\n",
      "...               ...   ...\n",
      "590521        3577521     T\n",
      "590526        3577526     T\n",
      "590529        3577529     T\n",
      "590531        3577531     T\n",
      "590534        3577534     T\n",
      "\n",
      "[140985 rows x 2 columns], 'id_38':         TransactionID id_38\n",
      "4             2987004     T\n",
      "8             2987008     T\n",
      "10            2987010     T\n",
      "11            2987011     T\n",
      "16            2987016     T\n",
      "...               ...   ...\n",
      "590521        3577521     F\n",
      "590526        3577526     F\n",
      "590529        3577529     F\n",
      "590531        3577531     F\n",
      "590534        3577534     F\n",
      "\n",
      "[140985 rows x 2 columns], 'DeviceType':         TransactionID DeviceType\n",
      "4             2987004     mobile\n",
      "8             2987008     mobile\n",
      "10            2987010    desktop\n",
      "11            2987011    desktop\n",
      "16            2987016    desktop\n",
      "...               ...        ...\n",
      "590521        3577521     mobile\n",
      "590526        3577526     mobile\n",
      "590529        3577529     mobile\n",
      "590531        3577531    desktop\n",
      "590534        3577534     mobile\n",
      "\n",
      "[140810 rows x 2 columns], 'DeviceInfo':         TransactionID                          DeviceInfo\n",
      "4             2987004       SAMSUNG SM-G892A Build/NRD90M\n",
      "8             2987008                          iOS Device\n",
      "10            2987010                             Windows\n",
      "16            2987016                               MacOS\n",
      "17            2987017                             Windows\n",
      "...               ...                                 ...\n",
      "590521        3577521             F3111 Build/33.3.A.1.97\n",
      "590526        3577526                 A574BL Build/NMF26F\n",
      "590529        3577529  Moto E (4) Plus Build/NMA26.42-152\n",
      "590531        3577531                               MacOS\n",
      "590534        3577534         RNE-L03 Build/HUAWEIRNE-L03\n",
      "\n",
      "[118666 rows x 2 columns]}\n"
     ]
    }
   ],
   "source": [
    "edges = {}\n",
    "for etype in edge_types:\n",
    "    edgelist = full_identity_df[['TransactionID', etype]].dropna()\n",
    "    edgelist.to_csv('/kaggle/working/relation_{}_edgelist.csv'.format(etype), index=False, header=True)\n",
    "    edges[etype] = edgelist\n",
    "\n",
    "print(edges)"
   ]
  },
  {
   "cell_type": "markdown",
   "id": "c7165a04",
   "metadata": {
    "papermill": {
     "duration": 0.018964,
     "end_time": "2023-05-07T22:49:54.340427",
     "exception": false,
     "start_time": "2023-05-07T22:49:54.321463",
     "status": "completed"
    },
    "tags": []
   },
   "source": [
    "# **Modeling**"
   ]
  },
  {
   "cell_type": "markdown",
   "id": "0e3245d2",
   "metadata": {
    "papermill": {
     "duration": 0.018105,
     "end_time": "2023-05-07T22:49:54.377302",
     "exception": false,
     "start_time": "2023-05-07T22:49:54.359197",
     "status": "completed"
    },
    "tags": []
   },
   "source": [
    "**installs**"
   ]
  },
  {
   "cell_type": "code",
   "execution_count": 18,
   "id": "df22097d",
   "metadata": {
    "execution": {
     "iopub.execute_input": "2023-05-07T22:49:54.416716Z",
     "iopub.status.busy": "2023-05-07T22:49:54.415937Z",
     "iopub.status.idle": "2023-05-07T22:50:08.029571Z",
     "shell.execute_reply": "2023-05-07T22:50:08.028152Z"
    },
    "papermill": {
     "duration": 13.636699,
     "end_time": "2023-05-07T22:50:08.032520",
     "exception": false,
     "start_time": "2023-05-07T22:49:54.395821",
     "status": "completed"
    },
    "tags": []
   },
   "outputs": [
    {
     "name": "stdout",
     "output_type": "stream",
     "text": [
      "Collecting dgl\r\n",
      "  Downloading dgl-1.1.0-cp310-cp310-manylinux1_x86_64.whl (5.9 MB)\r\n",
      "\u001b[2K     \u001b[90m━━━━━━━━━━━━━━━━━━━━━━━━━━━━━━━━━━━━━━━━\u001b[0m \u001b[32m5.9/5.9 MB\u001b[0m \u001b[31m42.0 MB/s\u001b[0m eta \u001b[36m0:00:00\u001b[0m\r\n",
      "\u001b[?25hRequirement already satisfied: scipy>=1.1.0 in /opt/conda/lib/python3.10/site-packages (from dgl) (1.9.3)\r\n",
      "Requirement already satisfied: numpy>=1.14.0 in /opt/conda/lib/python3.10/site-packages (from dgl) (1.23.5)\r\n",
      "Requirement already satisfied: requests>=2.19.0 in /opt/conda/lib/python3.10/site-packages (from dgl) (2.28.2)\r\n",
      "Requirement already satisfied: tqdm in /opt/conda/lib/python3.10/site-packages (from dgl) (4.64.1)\r\n",
      "Requirement already satisfied: networkx>=2.1 in /opt/conda/lib/python3.10/site-packages (from dgl) (3.1)\r\n",
      "Requirement already satisfied: psutil>=5.8.0 in /opt/conda/lib/python3.10/site-packages (from dgl) (5.9.4)\r\n",
      "Requirement already satisfied: urllib3<1.27,>=1.21.1 in /opt/conda/lib/python3.10/site-packages (from requests>=2.19.0->dgl) (1.26.15)\r\n",
      "Requirement already satisfied: charset-normalizer<4,>=2 in /opt/conda/lib/python3.10/site-packages (from requests>=2.19.0->dgl) (2.1.1)\r\n",
      "Requirement already satisfied: idna<4,>=2.5 in /opt/conda/lib/python3.10/site-packages (from requests>=2.19.0->dgl) (3.4)\r\n",
      "Requirement already satisfied: certifi>=2017.4.17 in /opt/conda/lib/python3.10/site-packages (from requests>=2.19.0->dgl) (2022.12.7)\r\n",
      "Installing collected packages: dgl\r\n",
      "Successfully installed dgl-1.1.0\r\n",
      "\u001b[33mWARNING: Running pip as the 'root' user can result in broken permissions and conflicting behaviour with the system package manager. It is recommended to use a virtual environment instead: https://pip.pypa.io/warnings/venv\u001b[0m\u001b[33m\r\n",
      "\u001b[0m"
     ]
    }
   ],
   "source": [
    "!pip install dgl"
   ]
  },
  {
   "cell_type": "code",
   "execution_count": 19,
   "id": "7b8fa001",
   "metadata": {
    "execution": {
     "iopub.execute_input": "2023-05-07T22:50:08.073972Z",
     "iopub.status.busy": "2023-05-07T22:50:08.073560Z",
     "iopub.status.idle": "2023-05-07T22:50:12.914271Z",
     "shell.execute_reply": "2023-05-07T22:50:12.913120Z"
    },
    "papermill": {
     "duration": 4.864504,
     "end_time": "2023-05-07T22:50:12.916879",
     "exception": false,
     "start_time": "2023-05-07T22:50:08.052375",
     "status": "completed"
    },
    "tags": []
   },
   "outputs": [
    {
     "name": "stderr",
     "output_type": "stream",
     "text": [
      "/opt/conda/lib/python3.10/site-packages/scipy/__init__.py:146: UserWarning: A NumPy version >=1.16.5 and <1.23.0 is required for this version of SciPy (detected version 1.23.5\n",
      "  warnings.warn(f\"A NumPy version >={np_minversion} and <{np_maxversion}\"\n"
     ]
    }
   ],
   "source": [
    "import os\n",
    "import sys\n",
    "import glob\n",
    "\n",
    "os.environ['DGLBACKEND'] = 'pytorch'\n",
    "\n",
    "import torch as th\n",
    "import dgl\n",
    "import numpy as np"
   ]
  },
  {
   "cell_type": "markdown",
   "id": "efbcafa5",
   "metadata": {
    "papermill": {
     "duration": 0.019101,
     "end_time": "2023-05-07T22:50:12.955618",
     "exception": false,
     "start_time": "2023-05-07T22:50:12.936517",
     "status": "completed"
    },
    "tags": []
   },
   "source": [
    "*estimator_fns*"
   ]
  },
  {
   "cell_type": "code",
   "execution_count": 20,
   "id": "062fe786",
   "metadata": {
    "execution": {
     "iopub.execute_input": "2023-05-07T22:50:12.996791Z",
     "iopub.status.busy": "2023-05-07T22:50:12.995964Z",
     "iopub.status.idle": "2023-05-07T22:50:13.001401Z",
     "shell.execute_reply": "2023-05-07T22:50:13.000279Z"
    },
    "papermill": {
     "duration": 0.028541,
     "end_time": "2023-05-07T22:50:13.003643",
     "exception": false,
     "start_time": "2023-05-07T22:50:12.975102",
     "status": "completed"
    },
    "tags": []
   },
   "outputs": [],
   "source": [
    "import os\n",
    "import argparse\n",
    "import logging\n",
    "import datetime"
   ]
  },
  {
   "cell_type": "code",
   "execution_count": 21,
   "id": "c49dde7f",
   "metadata": {
    "execution": {
     "iopub.execute_input": "2023-05-07T22:50:13.044203Z",
     "iopub.status.busy": "2023-05-07T22:50:13.043778Z",
     "iopub.status.idle": "2023-05-07T22:50:13.056282Z",
     "shell.execute_reply": "2023-05-07T22:50:13.055423Z"
    },
    "papermill": {
     "duration": 0.035599,
     "end_time": "2023-05-07T22:50:13.058625",
     "exception": false,
     "start_time": "2023-05-07T22:50:13.023026",
     "status": "completed"
    },
    "tags": []
   },
   "outputs": [],
   "source": [
    "def parse_args():\n",
    "    parser = argparse.ArgumentParser()\n",
    "    parser.add_argument('--training-dir', type=str, default='/kaggle/working')\n",
    "    dt = datetime.datetime.now().strftime('%Y_%m_%d_%H_%M_%S')\n",
    "    parser.add_argument('--model-dir', type=str, default='/kaggle/working'+dt)\n",
    "    parser.add_argument('--output-dir', type=str, default='/kaggle/working')\n",
    "    parser.add_argument('--nodes', type=str, default='/kaggle/working/features.csv')\n",
    "    parser.add_argument('--target-ntype', type=str, default='TransactionID')\n",
    "    parser.add_argument('--edges', type=str, default='/kaggle/working/relation*')\n",
    "    parser.add_argument('--labels', type=str, default='/kaggle/working/tags.csv')\n",
    "    parser.add_argument('--new-accounts', type=str, default='/kaggle/working/test.csv')\n",
    "    parser.add_argument('--compute-metrics', type=lambda x: (str(x).lower() in ['true', '1', 'yes']),\n",
    "                        default=True, help='compute evaluation metrics after training')\n",
    "    parser.add_argument('--threshold', type=float, default=0, help='threshold for making predictions, default : argmax')\n",
    "    parser.add_argument('--num-gpus', type=int, default=0)\n",
    "    parser.add_argument('--optimizer', type=str, default='adam')\n",
    "    parser.add_argument('--lr', type=float, default=1e-2)\n",
    "    parser.add_argument('--n-epochs', type=int, default=5)\n",
    "    parser.add_argument('--n-hidden', type=int, default=32, help='number of hidden units') \n",
    "    parser.add_argument('--n-layers', type=int, default=6, help='number of hidden layers')\n",
    "    parser.add_argument('--weight-decay', type=float, default=5e-4, help='Weight for L2 loss')\n",
    "    parser.add_argument('--dropout', type=float, default=0.2, help='dropout probability, for gat only features')\n",
    "    parser.add_argument('--embedding-size', type=int, default=360, help=\"embedding size for node embedding\")\n",
    "    return parser.parse_known_args()[0]\n",
    "\n",
    "\n",
    "def get_logger(name):\n",
    "    logger = logging.getLogger(name)\n",
    "    log_format = '%(asctime)s %(levelname)s %(name)s: %(message)s'\n",
    "    logging.basicConfig(format=log_format, level=logging.INFO)\n",
    "    logger.setLevel(logging.INFO)\n",
    "    return logger"
   ]
  },
  {
   "cell_type": "markdown",
   "id": "61fc994b",
   "metadata": {
    "papermill": {
     "duration": 0.01909,
     "end_time": "2023-05-07T22:50:13.098352",
     "exception": false,
     "start_time": "2023-05-07T22:50:13.079262",
     "status": "completed"
    },
    "tags": []
   },
   "source": [
    "*graph_utils*"
   ]
  },
  {
   "cell_type": "code",
   "execution_count": 22,
   "id": "2fd0eea7",
   "metadata": {
    "execution": {
     "iopub.execute_input": "2023-05-07T22:50:13.139347Z",
     "iopub.status.busy": "2023-05-07T22:50:13.138397Z",
     "iopub.status.idle": "2023-05-07T22:50:13.142968Z",
     "shell.execute_reply": "2023-05-07T22:50:13.142158Z"
    },
    "papermill": {
     "duration": 0.027556,
     "end_time": "2023-05-07T22:50:13.145166",
     "exception": false,
     "start_time": "2023-05-07T22:50:13.117610",
     "status": "completed"
    },
    "tags": []
   },
   "outputs": [],
   "source": [
    "import os\n",
    "import re\n",
    "import dgl\n",
    "import numpy as np\n",
    "import torch as th\n",
    "import logging\n",
    "#from data import parse_edgelist, get_features, read_edges, read_masked_nodes\n",
    "import pandas as pd"
   ]
  },
  {
   "cell_type": "code",
   "execution_count": 23,
   "id": "5fbada3a",
   "metadata": {
    "execution": {
     "iopub.execute_input": "2023-05-07T22:50:13.186957Z",
     "iopub.status.busy": "2023-05-07T22:50:13.185871Z",
     "iopub.status.idle": "2023-05-07T22:50:13.193829Z",
     "shell.execute_reply": "2023-05-07T22:50:13.192805Z"
    },
    "papermill": {
     "duration": 0.031319,
     "end_time": "2023-05-07T22:50:13.196203",
     "exception": false,
     "start_time": "2023-05-07T22:50:13.164884",
     "status": "completed"
    },
    "tags": []
   },
   "outputs": [],
   "source": [
    "def get_features(id_to_node, node_features):\n",
    "    \"\"\"\n",
    "    :param id_to_node: dictionary mapping node names(id) to dgl node idx\n",
    "    :param node_features: path to file containing node features\n",
    "    :return: (np.ndarray, list) node feature matrix in order and new nodes not yet in the graph\n",
    "    \"\"\"\n",
    "    indices, features, new_nodes = [], [], []\n",
    "    max_node = max(id_to_node.values())\n",
    "    is_1st_line = True\n",
    "    with open(node_features, \"r\") as fh:\n",
    "        for line in fh:\n",
    "            node_feats = line.strip().split(\",\")\n",
    "            node_id = node_feats[0]\n",
    "            feats = np.array(list(map(float, node_feats[1:])))\n",
    "            features.append(feats)\n",
    "            if node_id not in id_to_node:\n",
    "                max_node += 1\n",
    "                id_to_node[node_id] = max_node\n",
    "                new_nodes.append(max_node)\n",
    "            indices.append(id_to_node[node_id])\n",
    "    features = np.array(features).astype('float32')\n",
    "    features = features[np.argsort(indices), :]\n",
    "    return features, new_nodes"
   ]
  },
  {
   "cell_type": "code",
   "execution_count": 24,
   "id": "645c8761",
   "metadata": {
    "execution": {
     "iopub.execute_input": "2023-05-07T22:50:13.237591Z",
     "iopub.status.busy": "2023-05-07T22:50:13.236803Z",
     "iopub.status.idle": "2023-05-07T22:50:13.244424Z",
     "shell.execute_reply": "2023-05-07T22:50:13.243344Z"
    },
    "papermill": {
     "duration": 0.030959,
     "end_time": "2023-05-07T22:50:13.246620",
     "exception": false,
     "start_time": "2023-05-07T22:50:13.215661",
     "status": "completed"
    },
    "tags": []
   },
   "outputs": [],
   "source": [
    "def get_labels(id_to_node, n_nodes, target_node_type, labels_path, masked_nodes_path, additional_mask_rate=0):\n",
    "    \"\"\"\n",
    "    :param id_to_node: dictionary mapping node names(id) to dgl node idx\n",
    "    :param n_nodes: number of user nodes in the graph\n",
    "    :param target_node_type: column name for target node type\n",
    "    :param labels_path: filepath containing labelled nodes\n",
    "    :param masked_nodes_path: filepath containing list of nodes to be masked\n",
    "    :param additional_mask_rate: additional_mask_rate: float for additional masking of nodes with labels during training\n",
    "    :return: (list, list) train and test mask array\n",
    "    \"\"\"\n",
    "    node_to_id = {v: k for k, v in id_to_node.items()}\n",
    "    user_to_label = pd.read_csv(labels_path).set_index(target_node_type)\n",
    "    labels = user_to_label.loc[map(int, pd.Series(node_to_id)[np.arange(n_nodes)].values)].values.flatten()\n",
    "    masked_nodes = read_masked_nodes(masked_nodes_path)\n",
    "    train_mask, test_mask = _get_mask(id_to_node, node_to_id, n_nodes, masked_nodes,\n",
    "                                      additional_mask_rate=additional_mask_rate)\n",
    "    return labels, train_mask, test_mask\n"
   ]
  },
  {
   "cell_type": "code",
   "execution_count": 25,
   "id": "32212f6e",
   "metadata": {
    "execution": {
     "iopub.execute_input": "2023-05-07T22:50:13.287377Z",
     "iopub.status.busy": "2023-05-07T22:50:13.286963Z",
     "iopub.status.idle": "2023-05-07T22:50:13.292523Z",
     "shell.execute_reply": "2023-05-07T22:50:13.291507Z"
    },
    "papermill": {
     "duration": 0.028766,
     "end_time": "2023-05-07T22:50:13.294998",
     "exception": false,
     "start_time": "2023-05-07T22:50:13.266232",
     "status": "completed"
    },
    "tags": []
   },
   "outputs": [],
   "source": [
    "def read_masked_nodes(masked_nodes_path):\n",
    "    \"\"\"\n",
    "    Returns a list of nodes extracted from the path passed in\n",
    "    :param masked_nodes_path: filepath containing list of nodes to be masked i.e test users\n",
    "    :return: list\n",
    "    \"\"\"\n",
    "    with open(masked_nodes_path, \"r\") as fh:\n",
    "        masked_nodes = [line.strip() for line in fh]\n",
    "    return masked_nodes"
   ]
  },
  {
   "cell_type": "code",
   "execution_count": 26,
   "id": "933f0703",
   "metadata": {
    "execution": {
     "iopub.execute_input": "2023-05-07T22:50:13.335545Z",
     "iopub.status.busy": "2023-05-07T22:50:13.335183Z",
     "iopub.status.idle": "2023-05-07T22:50:13.342758Z",
     "shell.execute_reply": "2023-05-07T22:50:13.341583Z"
    },
    "papermill": {
     "duration": 0.030109,
     "end_time": "2023-05-07T22:50:13.344781",
     "exception": false,
     "start_time": "2023-05-07T22:50:13.314672",
     "status": "completed"
    },
    "tags": []
   },
   "outputs": [],
   "source": [
    "def _get_mask(id_to_node, node_to_id, num_nodes, masked_nodes, additional_mask_rate):\n",
    "    \"\"\"\n",
    "    Returns the train and test mask arrays\n",
    "    :param id_to_node: dictionary mapping node names(id) to dgl node idx\n",
    "    :param node_to_id: dictionary mapping dgl node idx to node names(id)\n",
    "    :param num_nodes: number of user/account nodes in the graph\n",
    "    :param masked_nodes: list of nodes to be masked during training, nodes without labels\n",
    "    :param additional_mask_rate: float for additional masking of nodes with labels during training\n",
    "    :return: (list, list) train and test mask array\n",
    "    \"\"\"\n",
    "    train_mask = np.ones(num_nodes)\n",
    "    test_mask = np.zeros(num_nodes)\n",
    "    for node_id in masked_nodes:\n",
    "        train_mask[id_to_node[node_id]] = 0\n",
    "        test_mask[id_to_node[node_id]] = 1\n",
    "    if additional_mask_rate and additional_mask_rate < 1:\n",
    "        unmasked = np.array([idx for idx in range(num_nodes) if node_to_id[idx] not in masked_nodes])\n",
    "        yet_unmasked = np.random.permutation(unmasked)[:int(additional_mask_rate*num_nodes)]\n",
    "        train_mask[yet_unmasked] = 0\n",
    "    return train_mask, test_mask"
   ]
  },
  {
   "cell_type": "code",
   "execution_count": 27,
   "id": "e43f0547",
   "metadata": {
    "execution": {
     "iopub.execute_input": "2023-05-07T22:50:13.385293Z",
     "iopub.status.busy": "2023-05-07T22:50:13.384781Z",
     "iopub.status.idle": "2023-05-07T22:50:13.390617Z",
     "shell.execute_reply": "2023-05-07T22:50:13.389765Z"
    },
    "papermill": {
     "duration": 0.028467,
     "end_time": "2023-05-07T22:50:13.392646",
     "exception": false,
     "start_time": "2023-05-07T22:50:13.364179",
     "status": "completed"
    },
    "tags": []
   },
   "outputs": [],
   "source": [
    "def _get_node_idx(id_to_node, node_type, node_id, ptr):\n",
    "    if node_type in id_to_node:\n",
    "        if node_id in id_to_node[node_type]:\n",
    "            node_idx = id_to_node[node_type][node_id]\n",
    "        else:\n",
    "            id_to_node[node_type][node_id] = ptr\n",
    "            node_idx = ptr\n",
    "            ptr += 1\n",
    "    else:\n",
    "        id_to_node[node_type] = {}\n",
    "        id_to_node[node_type][node_id] = ptr\n",
    "        node_idx = ptr\n",
    "        ptr += 1\n",
    "\n",
    "    return node_idx, id_to_node, ptr"
   ]
  },
  {
   "cell_type": "code",
   "execution_count": 28,
   "id": "dca7924e",
   "metadata": {
    "execution": {
     "iopub.execute_input": "2023-05-07T22:50:13.433823Z",
     "iopub.status.busy": "2023-05-07T22:50:13.433129Z",
     "iopub.status.idle": "2023-05-07T22:50:13.441622Z",
     "shell.execute_reply": "2023-05-07T22:50:13.440579Z"
    },
    "papermill": {
     "duration": 0.031576,
     "end_time": "2023-05-07T22:50:13.443888",
     "exception": false,
     "start_time": "2023-05-07T22:50:13.412312",
     "status": "completed"
    },
    "tags": []
   },
   "outputs": [],
   "source": [
    "def parse_edgelist(edges, id_to_node, header=False, source_type='user', sink_type='user'):\n",
    "    \"\"\"\n",
    "    Parse an edgelist path file and return the edges as a list of tuple\n",
    "    :param edges: path to comma separated file containing bipartite edges with header for edgetype\n",
    "    :param id_to_node: dictionary containing mapping for node names(id) to dgl node indices\n",
    "    :param header: boolean whether or not the file has a header row\n",
    "    :param source_type: type of the source node in the edge. defaults to 'user' if no header\n",
    "    :param sink_type: type of the sink node in the edge. defaults to 'user' if no header.\n",
    "    :return: (list, dict) a list containing edges of a single relationship type as tuples and updated id_to_node dict.\n",
    "    \"\"\"\n",
    "    edge_list = []\n",
    "    rev_edge_list = []\n",
    "    source_pointer, sink_pointer = 0, 0\n",
    "    with open(edges, \"r\") as fh:\n",
    "        for i, line in enumerate(fh):\n",
    "            source, sink = line.strip().split(\",\")\n",
    "            if i == 0:\n",
    "                if header:\n",
    "                    source_type, sink_type = source, sink\n",
    "                if source_type in id_to_node:\n",
    "                    source_pointer = max(id_to_node[source_type].values()) + 1\n",
    "                if sink_type in id_to_node:\n",
    "                    sink_pointer = max(id_to_node[sink_type].values()) + 1\n",
    "                continue\n",
    "\n",
    "            source_node, id_to_node, source_pointer = _get_node_idx(id_to_node, source_type, source, source_pointer)\n",
    "            if source_type == sink_type:\n",
    "                sink_node, id_to_node, source_pointer = _get_node_idx(id_to_node, sink_type, sink, source_pointer)\n",
    "            else:\n",
    "                sink_node, id_to_node, sink_pointer = _get_node_idx(id_to_node, sink_type, sink, sink_pointer)\n",
    "\n",
    "            edge_list.append((source_node, sink_node))\n",
    "            rev_edge_list.append((sink_node, source_node))\n",
    "\n",
    "    return edge_list, rev_edge_list, id_to_node, source_type, sink_type"
   ]
  },
  {
   "cell_type": "code",
   "execution_count": 29,
   "id": "2dcde74d",
   "metadata": {
    "execution": {
     "iopub.execute_input": "2023-05-07T22:50:13.484616Z",
     "iopub.status.busy": "2023-05-07T22:50:13.484228Z",
     "iopub.status.idle": "2023-05-07T22:50:13.493974Z",
     "shell.execute_reply": "2023-05-07T22:50:13.493070Z"
    },
    "papermill": {
     "duration": 0.032707,
     "end_time": "2023-05-07T22:50:13.496204",
     "exception": false,
     "start_time": "2023-05-07T22:50:13.463497",
     "status": "completed"
    },
    "tags": []
   },
   "outputs": [],
   "source": [
    "def read_edges(edges, nodes=None):\n",
    "    \"\"\"\n",
    "    Read edges and node features\n",
    "    :param edges: path to comma separated file containing all edges\n",
    "    :param nodes: path to comma separated file containing all nodes + features\n",
    "    :return: (list, list, list, dict) sources, sinks, features and id_to_node dictionary containing mappings\n",
    "    from node names(id) to dgl node indices\n",
    "    \"\"\"\n",
    "    node_pointer = 0\n",
    "    id_to_node = {}\n",
    "    features = []\n",
    "    sources, sinks = [], []\n",
    "    if nodes is not None:\n",
    "        with open(nodes, \"r\") as fh:\n",
    "            for line in fh:\n",
    "                node_feats = line.strip().split(\",\")\n",
    "                node_id = node_feats[0]\n",
    "                if node_id not in id_to_node:\n",
    "                    id_to_node[node_id] = node_pointer\n",
    "                    node_pointer += 1\n",
    "                    if len(node_feats) > 1:\n",
    "                        feats = np.array(list(map(float, node_feats[1:])))\n",
    "                        features.append(feats)\n",
    "        with open(edges, \"r\") as fh:\n",
    "            for line in fh:\n",
    "                source, sink = line.strip().split(\",\")\n",
    "                sources.append(id_to_node[source])\n",
    "                sinks.append(id_to_node[sink])\n",
    "    else:\n",
    "        with open(edges, \"r\") as fh:\n",
    "            for line in fh:\n",
    "                source, sink = line.strip().split(\",\")\n",
    "                if source not in id_to_node:\n",
    "                    id_to_node[source] = node_pointer\n",
    "                    node_pointer += 1\n",
    "                if sink not in id_to_node:\n",
    "                    id_to_node[sink] = node_pointer\n",
    "                    node_pointer += 1\n",
    "                sources.append(id_to_node[source])\n",
    "                sinks.append(id_to_node[sink])\n",
    "\n",
    "    return sources, sinks, features, id_to_node"
   ]
  },
  {
   "cell_type": "code",
   "execution_count": 30,
   "id": "9c102923",
   "metadata": {
    "execution": {
     "iopub.execute_input": "2023-05-07T22:50:13.536778Z",
     "iopub.status.busy": "2023-05-07T22:50:13.536366Z",
     "iopub.status.idle": "2023-05-07T22:50:13.542107Z",
     "shell.execute_reply": "2023-05-07T22:50:13.540940Z"
    },
    "papermill": {
     "duration": 0.028391,
     "end_time": "2023-05-07T22:50:13.544223",
     "exception": false,
     "start_time": "2023-05-07T22:50:13.515832",
     "status": "completed"
    },
    "tags": []
   },
   "outputs": [],
   "source": [
    "def get_logger(name):\n",
    "    logger = logging.getLogger(name)\n",
    "    log_format = '%(asctime)s %(levelname)s %(name)s: %(message)s'\n",
    "    logging.basicConfig(format=log_format, level=logging.INFO)\n",
    "    logger.setLevel(logging.INFO)\n",
    "    return logger\n",
    "\n",
    "logging = get_logger(__name__)"
   ]
  },
  {
   "cell_type": "code",
   "execution_count": 31,
   "id": "3bbdcaf2",
   "metadata": {
    "execution": {
     "iopub.execute_input": "2023-05-07T22:50:13.585281Z",
     "iopub.status.busy": "2023-05-07T22:50:13.584627Z",
     "iopub.status.idle": "2023-05-07T22:50:13.589704Z",
     "shell.execute_reply": "2023-05-07T22:50:13.588762Z"
    },
    "papermill": {
     "duration": 0.027676,
     "end_time": "2023-05-07T22:50:13.591767",
     "exception": false,
     "start_time": "2023-05-07T22:50:13.564091",
     "status": "completed"
    },
    "tags": []
   },
   "outputs": [],
   "source": [
    "def get_edgelists(edgelist_expression, directory):\n",
    "    if \",\" in edgelist_expression:\n",
    "        return edgelist_expression.split(\",\")\n",
    "    files = os.listdir(directory)\n",
    "    compiled_expression = re.compile(edgelist_expression)\n",
    "    return [filename for filename in files if compiled_expression.match(filename)]"
   ]
  },
  {
   "cell_type": "code",
   "execution_count": 32,
   "id": "c8ec37ae",
   "metadata": {
    "execution": {
     "iopub.execute_input": "2023-05-07T22:50:13.632498Z",
     "iopub.status.busy": "2023-05-07T22:50:13.632102Z",
     "iopub.status.idle": "2023-05-07T22:50:13.642152Z",
     "shell.execute_reply": "2023-05-07T22:50:13.641155Z"
    },
    "papermill": {
     "duration": 0.032819,
     "end_time": "2023-05-07T22:50:13.644169",
     "exception": false,
     "start_time": "2023-05-07T22:50:13.611350",
     "status": "completed"
    },
    "tags": []
   },
   "outputs": [],
   "source": [
    "def construct_graph(training_dir, edges, nodes, target_node_type):\n",
    "\n",
    "    print(\"Getting relation graphs from the following edge lists : {} \".format(edges))\n",
    "    edgelists, id_to_node = {}, {}\n",
    "    for i, edge in enumerate(edges):\n",
    "        edgelist, rev_edgelist, id_to_node, src, dst = parse_edgelist(os.path.join(training_dir, edge), id_to_node, header=True)\n",
    "        if src == target_node_type:\n",
    "            src = 'target'\n",
    "        if dst == target_node_type:\n",
    "            dst = 'target'\n",
    "\n",
    "        if src == 'target' and dst == 'target':\n",
    "            print(\"Will add self loop for target later......\")\n",
    "        else:\n",
    "            edgelists[(src, src + '<>' + dst, dst)] = edgelist\n",
    "            edgelists[(dst, dst + '<>' + src, src)] = rev_edgelist\n",
    "            print(\"Read edges for {} from edgelist: {}\".format(src + '<' + dst + '>', os.path.join(training_dir, edge)))\n",
    "\n",
    "    # get features for target nodes\n",
    "    features, new_nodes = get_features(id_to_node[target_node_type], os.path.join(training_dir, nodes))\n",
    "    print(\"Read in features for target nodes\")\n",
    "\n",
    "    # add self relation\n",
    "    edgelists[('target', 'self_relation', 'target')] = [(t, t) for t in id_to_node[target_node_type].values()]\n",
    "\n",
    "    g = dgl.heterograph(edgelists)\n",
    "    print(\n",
    "        \"Constructed heterograph with the following metagraph structure: Node types {}, Edge types{}\".format(\n",
    "            g.ntypes, g.canonical_etypes))\n",
    "    print(\"Number of nodes of type target : {}\".format(g.number_of_nodes('target')))\n",
    "\n",
    "    g.nodes['target'].data['features'] = th.from_numpy(features)\n",
    "\n",
    "    target_id_to_node = id_to_node[target_node_type]\n",
    "    id_to_node['target'] = target_id_to_node\n",
    "\n",
    "    del id_to_node[target_node_type]\n",
    "\n",
    "    return g, features, target_id_to_node, id_to_node"
   ]
  },
  {
   "cell_type": "markdown",
   "id": "7520973b",
   "metadata": {
    "papermill": {
     "duration": 0.019113,
     "end_time": "2023-05-07T22:50:13.682798",
     "exception": false,
     "start_time": "2023-05-07T22:50:13.663685",
     "status": "completed"
    },
    "tags": []
   },
   "source": [
    "*data*"
   ]
  },
  {
   "cell_type": "code",
   "execution_count": 33,
   "id": "3d67c8fe",
   "metadata": {
    "execution": {
     "iopub.execute_input": "2023-05-07T22:50:13.723658Z",
     "iopub.status.busy": "2023-05-07T22:50:13.722609Z",
     "iopub.status.idle": "2023-05-07T22:50:13.727512Z",
     "shell.execute_reply": "2023-05-07T22:50:13.726675Z"
    },
    "papermill": {
     "duration": 0.027728,
     "end_time": "2023-05-07T22:50:13.729630",
     "exception": false,
     "start_time": "2023-05-07T22:50:13.701902",
     "status": "completed"
    },
    "tags": []
   },
   "outputs": [],
   "source": [
    "import numpy as np\n",
    "import pandas as pd"
   ]
  },
  {
   "cell_type": "code",
   "execution_count": 34,
   "id": "dab648d7",
   "metadata": {
    "execution": {
     "iopub.execute_input": "2023-05-07T22:50:13.771146Z",
     "iopub.status.busy": "2023-05-07T22:50:13.770526Z",
     "iopub.status.idle": "2023-05-07T22:50:13.778161Z",
     "shell.execute_reply": "2023-05-07T22:50:13.777398Z"
    },
    "papermill": {
     "duration": 0.031005,
     "end_time": "2023-05-07T22:50:13.780215",
     "exception": false,
     "start_time": "2023-05-07T22:50:13.749210",
     "status": "completed"
    },
    "tags": []
   },
   "outputs": [],
   "source": [
    "def get_features(id_to_node, node_features):\n",
    "    \"\"\"\n",
    "    :param id_to_node: dictionary mapping node names(id) to dgl node idx\n",
    "    :param node_features: path to file containing node features\n",
    "    :return: (np.ndarray, list) node feature matrix in order and new nodes not yet in the graph\n",
    "    \"\"\"\n",
    "    indices, features, new_nodes = [], [], []\n",
    "    max_node = max(id_to_node.values())\n",
    "\n",
    "    is_1st_line = True\n",
    "    with open(node_features, \"r\") as fh:\n",
    "        for line in fh:\n",
    "            node_feats = line.strip().split(\",\")\n",
    "            node_id = node_feats[0]\n",
    "            feats = np.array(list(map(float, node_feats[1:])))\n",
    "            features.append(feats)\n",
    "            if node_id not in id_to_node:\n",
    "                max_node += 1\n",
    "                id_to_node[node_id] = max_node\n",
    "                new_nodes.append(max_node)\n",
    "\n",
    "            indices.append(id_to_node[node_id])\n",
    "\n",
    "    features = np.array(features).astype('float32')\n",
    "    features = features[np.argsort(indices), :]\n",
    "    return features, new_nodes\n"
   ]
  },
  {
   "cell_type": "code",
   "execution_count": 35,
   "id": "3054760d",
   "metadata": {
    "execution": {
     "iopub.execute_input": "2023-05-07T22:50:13.821187Z",
     "iopub.status.busy": "2023-05-07T22:50:13.820571Z",
     "iopub.status.idle": "2023-05-07T22:50:13.827544Z",
     "shell.execute_reply": "2023-05-07T22:50:13.826542Z"
    },
    "papermill": {
     "duration": 0.030173,
     "end_time": "2023-05-07T22:50:13.829573",
     "exception": false,
     "start_time": "2023-05-07T22:50:13.799400",
     "status": "completed"
    },
    "tags": []
   },
   "outputs": [],
   "source": [
    "def get_labels(id_to_node, n_nodes, target_node_type, labels_path, masked_nodes_path, additional_mask_rate=0):\n",
    "    \"\"\"\n",
    "    :param id_to_node: dictionary mapping node names(id) to dgl node idx\n",
    "    :param n_nodes: number of user nodes in the graph\n",
    "    :param target_node_type: column name for target node type\n",
    "    :param labels_path: filepath containing labelled nodes\n",
    "    :param masked_nodes_path: filepath containing list of nodes to be masked\n",
    "    :param additional_mask_rate: additional_mask_rate: float for additional masking of nodes with labels during training\n",
    "    :return: (list, list) train and test mask array\n",
    "    \"\"\"\n",
    "    node_to_id = {v: k for k, v in id_to_node.items()}\n",
    "    user_to_label = pd.read_csv(labels_path).set_index(target_node_type)\n",
    "    labels = user_to_label.loc[map(int, pd.Series(node_to_id)[np.arange(n_nodes)].values)].values.flatten()\n",
    "    masked_nodes = read_masked_nodes(masked_nodes_path)\n",
    "    train_mask, test_mask = _get_mask(id_to_node, node_to_id, n_nodes, masked_nodes,\n",
    "                                      additional_mask_rate=additional_mask_rate)\n",
    "    return labels, train_mask, test_mask"
   ]
  },
  {
   "cell_type": "code",
   "execution_count": 36,
   "id": "ff37e56b",
   "metadata": {
    "execution": {
     "iopub.execute_input": "2023-05-07T22:50:13.869924Z",
     "iopub.status.busy": "2023-05-07T22:50:13.869548Z",
     "iopub.status.idle": "2023-05-07T22:50:13.874573Z",
     "shell.execute_reply": "2023-05-07T22:50:13.873849Z"
    },
    "papermill": {
     "duration": 0.027481,
     "end_time": "2023-05-07T22:50:13.876459",
     "exception": false,
     "start_time": "2023-05-07T22:50:13.848978",
     "status": "completed"
    },
    "tags": []
   },
   "outputs": [],
   "source": [
    "def read_masked_nodes(masked_nodes_path):\n",
    "    \"\"\"\n",
    "    Returns a list of nodes extracted from the path passed in\n",
    "    :param masked_nodes_path: filepath containing list of nodes to be masked i.e test users\n",
    "    :return: list\n",
    "    \"\"\"\n",
    "    with open(masked_nodes_path, \"r\") as fh:\n",
    "        masked_nodes = [line.strip() for line in fh]\n",
    "    return masked_nodes"
   ]
  },
  {
   "cell_type": "code",
   "execution_count": 37,
   "id": "109cbd48",
   "metadata": {
    "execution": {
     "iopub.execute_input": "2023-05-07T22:50:13.917713Z",
     "iopub.status.busy": "2023-05-07T22:50:13.916653Z",
     "iopub.status.idle": "2023-05-07T22:50:13.924267Z",
     "shell.execute_reply": "2023-05-07T22:50:13.923447Z"
    },
    "papermill": {
     "duration": 0.03052,
     "end_time": "2023-05-07T22:50:13.926434",
     "exception": false,
     "start_time": "2023-05-07T22:50:13.895914",
     "status": "completed"
    },
    "tags": []
   },
   "outputs": [],
   "source": [
    "def _get_mask(id_to_node, node_to_id, num_nodes, masked_nodes, additional_mask_rate):\n",
    "    \"\"\"\n",
    "    Returns the train and test mask arrays\n",
    "    :param id_to_node: dictionary mapping node names(id) to dgl node idx\n",
    "    :param node_to_id: dictionary mapping dgl node idx to node names(id)\n",
    "    :param num_nodes: number of user/account nodes in the graph\n",
    "    :param masked_nodes: list of nodes to be masked during training, nodes without labels\n",
    "    :param additional_mask_rate: float for additional masking of nodes with labels during training\n",
    "    :return: (list, list) train and test mask array\n",
    "    \"\"\"\n",
    "    train_mask = np.ones(num_nodes)\n",
    "    test_mask = np.zeros(num_nodes)\n",
    "    for node_id in masked_nodes:\n",
    "        train_mask[id_to_node[node_id]] = 0\n",
    "        test_mask[id_to_node[node_id]] = 1\n",
    "    if additional_mask_rate and additional_mask_rate < 1:\n",
    "        unmasked = np.array([idx for idx in range(num_nodes) if node_to_id[idx] not in masked_nodes])\n",
    "        yet_unmasked = np.random.permutation(unmasked)[:int(additional_mask_rate*num_nodes)]\n",
    "        train_mask[yet_unmasked] = 0\n",
    "    return train_mask, test_mask\n"
   ]
  },
  {
   "cell_type": "code",
   "execution_count": 38,
   "id": "e2195434",
   "metadata": {
    "execution": {
     "iopub.execute_input": "2023-05-07T22:50:13.971525Z",
     "iopub.status.busy": "2023-05-07T22:50:13.970567Z",
     "iopub.status.idle": "2023-05-07T22:50:13.977080Z",
     "shell.execute_reply": "2023-05-07T22:50:13.975903Z"
    },
    "papermill": {
     "duration": 0.033082,
     "end_time": "2023-05-07T22:50:13.979096",
     "exception": false,
     "start_time": "2023-05-07T22:50:13.946014",
     "status": "completed"
    },
    "tags": []
   },
   "outputs": [],
   "source": [
    "def _get_node_idx(id_to_node, node_type, node_id, ptr):\n",
    "    if node_type in id_to_node:\n",
    "        if node_id in id_to_node[node_type]:\n",
    "            node_idx = id_to_node[node_type][node_id]\n",
    "        else:\n",
    "            id_to_node[node_type][node_id] = ptr\n",
    "            node_idx = ptr\n",
    "            ptr += 1\n",
    "    else:\n",
    "        id_to_node[node_type] = {}\n",
    "        id_to_node[node_type][node_id] = ptr\n",
    "        node_idx = ptr\n",
    "        ptr += 1\n",
    "\n",
    "    return node_idx, id_to_node, ptr\n"
   ]
  },
  {
   "cell_type": "code",
   "execution_count": 39,
   "id": "269ec2d6",
   "metadata": {
    "execution": {
     "iopub.execute_input": "2023-05-07T22:50:14.020027Z",
     "iopub.status.busy": "2023-05-07T22:50:14.018997Z",
     "iopub.status.idle": "2023-05-07T22:50:14.028447Z",
     "shell.execute_reply": "2023-05-07T22:50:14.027486Z"
    },
    "papermill": {
     "duration": 0.032101,
     "end_time": "2023-05-07T22:50:14.030555",
     "exception": false,
     "start_time": "2023-05-07T22:50:13.998454",
     "status": "completed"
    },
    "tags": []
   },
   "outputs": [],
   "source": [
    "def parse_edgelist(edges, id_to_node, header=False, source_type='user', sink_type='user'):\n",
    "    \"\"\"\n",
    "    Parse an edgelist path file and return the edges as a list of tuple\n",
    "    :param edges: path to comma separated file containing bipartite edges with header for edgetype\n",
    "    :param id_to_node: dictionary containing mapping for node names(id) to dgl node indices\n",
    "    :param header: boolean whether or not the file has a header row\n",
    "    :param source_type: type of the source node in the edge. defaults to 'user' if no header\n",
    "    :param sink_type: type of the sink node in the edge. defaults to 'user' if no header.\n",
    "    :return: (list, dict) a list containing edges of a single relationship type as tuples and updated id_to_node dict.\n",
    "    \"\"\"\n",
    "    edge_list = []\n",
    "    rev_edge_list = []\n",
    "    source_pointer, sink_pointer = 0, 0\n",
    "    with open(edges, \"r\") as fh:\n",
    "        for i, line in enumerate(fh):\n",
    "            source, sink = line.strip().split(\",\")\n",
    "            if i == 0:\n",
    "                if header:\n",
    "                    source_type, sink_type = source, sink\n",
    "                if source_type in id_to_node:\n",
    "                    source_pointer = max(id_to_node[source_type].values()) + 1\n",
    "                if sink_type in id_to_node:\n",
    "                    sink_pointer = max(id_to_node[sink_type].values()) + 1\n",
    "                continue\n",
    "\n",
    "            source_node, id_to_node, source_pointer = _get_node_idx(id_to_node, source_type, source, source_pointer)\n",
    "            if source_type == sink_type:\n",
    "                sink_node, id_to_node, source_pointer = _get_node_idx(id_to_node, sink_type, sink, source_pointer)\n",
    "            else:\n",
    "                sink_node, id_to_node, sink_pointer = _get_node_idx(id_to_node, sink_type, sink, sink_pointer)\n",
    "\n",
    "            edge_list.append((source_node, sink_node))\n",
    "            rev_edge_list.append((sink_node, source_node))\n",
    "\n",
    "    return edge_list, rev_edge_list, id_to_node, source_type, sink_type\n"
   ]
  },
  {
   "cell_type": "code",
   "execution_count": 40,
   "id": "cde8f912",
   "metadata": {
    "execution": {
     "iopub.execute_input": "2023-05-07T22:50:14.071260Z",
     "iopub.status.busy": "2023-05-07T22:50:14.070558Z",
     "iopub.status.idle": "2023-05-07T22:50:14.080510Z",
     "shell.execute_reply": "2023-05-07T22:50:14.079452Z"
    },
    "papermill": {
     "duration": 0.032601,
     "end_time": "2023-05-07T22:50:14.082600",
     "exception": false,
     "start_time": "2023-05-07T22:50:14.049999",
     "status": "completed"
    },
    "tags": []
   },
   "outputs": [],
   "source": [
    "def read_edges(edges, nodes=None):\n",
    "    \"\"\"\n",
    "    Read edges and node features\n",
    "    :param edges: path to comma separated file containing all edges\n",
    "    :param nodes: path to comma separated file containing all nodes + features\n",
    "    :return: (list, list, list, dict) sources, sinks, features and id_to_node dictionary containing mappings\n",
    "    from node names(id) to dgl node indices\n",
    "    \"\"\"\n",
    "    node_pointer = 0\n",
    "    id_to_node = {}\n",
    "    features = []\n",
    "    sources, sinks = [], []\n",
    "    if nodes is not None:\n",
    "        with open(nodes, \"r\") as fh:\n",
    "            for line in fh:\n",
    "                node_feats = line.strip().split(\",\")\n",
    "                node_id = node_feats[0]\n",
    "                if node_id not in id_to_node:\n",
    "                    id_to_node[node_id] = node_pointer\n",
    "                    node_pointer += 1\n",
    "                    if len(node_feats) > 1:\n",
    "                        feats = np.array(list(map(float, node_feats[1:])))\n",
    "                        features.append(feats)\n",
    "        with open(edges, \"r\") as fh:\n",
    "            for line in fh:\n",
    "                source, sink = line.strip().split(\",\")\n",
    "                sources.append(id_to_node[source])\n",
    "                sinks.append(id_to_node[sink])\n",
    "    else:\n",
    "        with open(edges, \"r\") as fh:\n",
    "            for line in fh:\n",
    "                source, sink = line.strip().split(\",\")\n",
    "                if source not in id_to_node:\n",
    "                    id_to_node[source] = node_pointer\n",
    "                    node_pointer += 1\n",
    "                if sink not in id_to_node:\n",
    "                    id_to_node[sink] = node_pointer\n",
    "                    node_pointer += 1\n",
    "                sources.append(id_to_node[source])\n",
    "                sinks.append(id_to_node[sink])\n",
    "\n",
    "    return sources, sinks, features, id_to_node"
   ]
  },
  {
   "cell_type": "markdown",
   "id": "d4a78710",
   "metadata": {
    "papermill": {
     "duration": 0.019009,
     "end_time": "2023-05-07T22:50:14.120972",
     "exception": false,
     "start_time": "2023-05-07T22:50:14.101963",
     "status": "completed"
    },
    "tags": []
   },
   "source": [
    "*utils*"
   ]
  },
  {
   "cell_type": "code",
   "execution_count": 41,
   "id": "cdb18a76",
   "metadata": {
    "execution": {
     "iopub.execute_input": "2023-05-07T22:50:14.161517Z",
     "iopub.status.busy": "2023-05-07T22:50:14.161118Z",
     "iopub.status.idle": "2023-05-07T22:50:14.951854Z",
     "shell.execute_reply": "2023-05-07T22:50:14.950620Z"
    },
    "papermill": {
     "duration": 0.814296,
     "end_time": "2023-05-07T22:50:14.954611",
     "exception": false,
     "start_time": "2023-05-07T22:50:14.140315",
     "status": "completed"
    },
    "tags": []
   },
   "outputs": [],
   "source": [
    "import os\n",
    "import pandas as pd\n",
    "import numpy as np\n",
    "from sklearn.metrics import roc_curve, auc, precision_recall_curve, average_precision_score\n",
    "import networkx as nx\n",
    "import matplotlib.pyplot as plt"
   ]
  },
  {
   "cell_type": "code",
   "execution_count": 42,
   "id": "02deb04b",
   "metadata": {
    "execution": {
     "iopub.execute_input": "2023-05-07T22:50:14.995542Z",
     "iopub.status.busy": "2023-05-07T22:50:14.994931Z",
     "iopub.status.idle": "2023-05-07T22:50:15.005903Z",
     "shell.execute_reply": "2023-05-07T22:50:15.005099Z"
    },
    "papermill": {
     "duration": 0.034234,
     "end_time": "2023-05-07T22:50:15.008171",
     "exception": false,
     "start_time": "2023-05-07T22:50:14.973937",
     "status": "completed"
    },
    "tags": []
   },
   "outputs": [],
   "source": [
    "def get_metrics(pred, pred_proba, labels, mask, out_dir):\n",
    "    labels, mask = labels, mask\n",
    "    labels, pred, pred_proba = labels[np.where(mask)], pred[np.where(mask)], pred_proba[np.where(mask)]\n",
    "    acc = ((pred == labels)).sum() / mask.sum()\n",
    "    true_pos = (np.where(pred == 1, 1, 0) + np.where(labels == 1, 1, 0) > 1).sum()\n",
    "    false_pos = (np.where(pred == 1, 1, 0) + np.where(labels == 0, 1, 0) > 1).sum()\n",
    "    false_neg = (np.where(pred == 0, 1, 0) + np.where(labels == 1, 1, 0) > 1).sum()\n",
    "    true_neg = (np.where(pred == 0, 1, 0) + np.where(labels == 0, 1, 0) > 1).sum()\n",
    "    precision = true_pos/(true_pos + false_pos) if (true_pos + false_pos) > 0 else 0\n",
    "    recall = true_pos/(true_pos + false_neg) if (true_pos + false_neg) > 0 else 0\n",
    "    f1 = 2*(precision*recall)/(precision + recall) if (precision + recall) > 0 else 0\n",
    "    confusion_matrix = pd.DataFrame(np.array([[true_pos, false_pos], [false_neg, true_neg]]),\n",
    "                                    columns=[\"labels positive\", \"labels negative\"],\n",
    "                                    index=[\"predicted positive\", \"predicted negative\"])\n",
    "    ap = average_precision_score(labels, pred_proba)\n",
    "    fpr, tpr, _ = roc_curve(labels, pred_proba)\n",
    "    prc, rec, _ = precision_recall_curve(labels, pred_proba)\n",
    "    roc_auc = auc(fpr, tpr)\n",
    "    pr_auc = auc(rec, prc)\n",
    "    save_roc_curve(fpr, tpr, roc_auc, os.path.join(out_dir, \"roc_curve.png\"))\n",
    "    save_pr_curve(prc, rec, pr_auc, ap, os.path.join(out_dir, \"pr_curve.png\"))\n",
    "\n",
    "    return acc, f1, precision, recall, roc_auc, pr_auc, ap, confusion_matrix"
   ]
  },
  {
   "cell_type": "code",
   "execution_count": 43,
   "id": "f2e8c151",
   "metadata": {
    "execution": {
     "iopub.execute_input": "2023-05-07T22:50:15.048615Z",
     "iopub.status.busy": "2023-05-07T22:50:15.047956Z",
     "iopub.status.idle": "2023-05-07T22:50:15.054781Z",
     "shell.execute_reply": "2023-05-07T22:50:15.053890Z"
    },
    "papermill": {
     "duration": 0.029682,
     "end_time": "2023-05-07T22:50:15.056997",
     "exception": false,
     "start_time": "2023-05-07T22:50:15.027315",
     "status": "completed"
    },
    "tags": []
   },
   "outputs": [],
   "source": [
    "def save_roc_curve(fpr, tpr, roc_auc, location):\n",
    "    f = plt.figure()\n",
    "    lw = 2\n",
    "    plt.plot(fpr, tpr, color='darkorange',\n",
    "             lw=lw, label='ROC curve (area = %0.2f)' % roc_auc)\n",
    "    plt.plot([0, 1], [0, 1], color='navy', lw=lw, linestyle='--')\n",
    "    plt.xlim([0.0, 1.0])\n",
    "    plt.ylim([0.0, 1.05])\n",
    "    plt.xlabel('False Positive Rate')\n",
    "    plt.ylabel('True Positive Rate')\n",
    "    plt.title('Model ROC curve')\n",
    "    plt.legend(loc=\"lower right\")\n",
    "    f.savefig(location)"
   ]
  },
  {
   "cell_type": "code",
   "execution_count": 44,
   "id": "153fdfdb",
   "metadata": {
    "execution": {
     "iopub.execute_input": "2023-05-07T22:50:15.097594Z",
     "iopub.status.busy": "2023-05-07T22:50:15.096989Z",
     "iopub.status.idle": "2023-05-07T22:50:15.103301Z",
     "shell.execute_reply": "2023-05-07T22:50:15.102510Z"
    },
    "papermill": {
     "duration": 0.029074,
     "end_time": "2023-05-07T22:50:15.105352",
     "exception": false,
     "start_time": "2023-05-07T22:50:15.076278",
     "status": "completed"
    },
    "tags": []
   },
   "outputs": [],
   "source": [
    "def save_pr_curve(fpr, tpr, pr_auc, ap, location):\n",
    "    f = plt.figure()\n",
    "    lw = 2\n",
    "    plt.plot(fpr, tpr, color='darkorange',\n",
    "             lw=lw, label='PR curve (area = %0.2f)' % pr_auc)\n",
    "    plt.xlim([0.0, 1.0])\n",
    "    plt.ylim([0.0, 1.05])\n",
    "    plt.xlabel('Recall')\n",
    "    plt.ylabel('Precision')\n",
    "    plt.title('Model PR curve: AP={0:0.2f}'.format(ap))\n",
    "    plt.legend(loc=\"lower right\")\n",
    "    f.savefig(location)"
   ]
  },
  {
   "cell_type": "code",
   "execution_count": 45,
   "id": "e0563ae5",
   "metadata": {
    "execution": {
     "iopub.execute_input": "2023-05-07T22:50:15.145724Z",
     "iopub.status.busy": "2023-05-07T22:50:15.145351Z",
     "iopub.status.idle": "2023-05-07T22:50:15.151212Z",
     "shell.execute_reply": "2023-05-07T22:50:15.150187Z"
    },
    "papermill": {
     "duration": 0.028766,
     "end_time": "2023-05-07T22:50:15.153437",
     "exception": false,
     "start_time": "2023-05-07T22:50:15.124671",
     "status": "completed"
    },
    "tags": []
   },
   "outputs": [],
   "source": [
    "def save_graph_drawing(g, location):\n",
    "    plt.figure(figsize=(12, 8))\n",
    "    node_colors = {node: 0.0 if 'user' in node else 0.5 for node in g.nodes()}\n",
    "    nx.draw(g, node_size=10000, pos=nx.spring_layout(g), with_labels=True, font_size=14,\n",
    "            node_color=list(node_colors.values()), font_color='white')\n",
    "    plt.savefig(location, bbox_inches='tight')"
   ]
  },
  {
   "cell_type": "markdown",
   "id": "f2e3e741",
   "metadata": {
    "papermill": {
     "duration": 0.018934,
     "end_time": "2023-05-07T22:50:15.191796",
     "exception": false,
     "start_time": "2023-05-07T22:50:15.172862",
     "status": "completed"
    },
    "tags": []
   },
   "source": [
    "*pytorch_model*"
   ]
  },
  {
   "cell_type": "code",
   "execution_count": 46,
   "id": "6212c79c",
   "metadata": {
    "execution": {
     "iopub.execute_input": "2023-05-07T22:50:15.232247Z",
     "iopub.status.busy": "2023-05-07T22:50:15.231854Z",
     "iopub.status.idle": "2023-05-07T22:50:15.246552Z",
     "shell.execute_reply": "2023-05-07T22:50:15.245560Z"
    },
    "papermill": {
     "duration": 0.037698,
     "end_time": "2023-05-07T22:50:15.248762",
     "exception": false,
     "start_time": "2023-05-07T22:50:15.211064",
     "status": "completed"
    },
    "tags": []
   },
   "outputs": [],
   "source": [
    "import torch\n",
    "import torch.nn as nn\n",
    "import torch.nn.functional as F\n",
    "\n",
    "from dgl.nn.pytorch import GraphConv, GATConv, SAGEConv\n",
    "import dgl.function as fn\n",
    "\n",
    "\n",
    "class HeteroRGCNLayer(nn.Module):\n",
    "    def __init__(self, in_size, out_size, etypes):\n",
    "        super(HeteroRGCNLayer, self).__init__()\n",
    "        # W_r for each relation\n",
    "        self.weight = nn.ModuleDict({\n",
    "                name: nn.Linear(in_size, out_size) for name in etypes\n",
    "            })\n",
    "\n",
    "    def forward(self, G, feat_dict):\n",
    "        # The input is a dictionary of node features for each type\n",
    "        funcs = {}\n",
    "        for srctype, etype, dsttype in G.canonical_etypes:\n",
    "            # Compute W_r * h\n",
    "            if srctype in feat_dict:\n",
    "                Wh = self.weight[etype](feat_dict[srctype])\n",
    "                # Save it in graph for message passing\n",
    "                G.nodes[srctype].data['Wh_%s' % etype] = Wh\n",
    "                # Specify per-relation message passing functions: (message_func, reduce_func).\n",
    "                funcs[etype] = (fn.copy_u('Wh_%s' % etype, 'm'), fn.mean('m', 'h'))\n",
    "        # Trigger message passing of multiple types.\n",
    "        G.multi_update_all(funcs, 'sum')\n",
    "        # return the updated node feature dictionary\n",
    "        return {ntype: G.nodes[ntype].data['h'] for ntype in G.ntypes if 'h' in G.nodes[ntype].data}\n",
    "\n",
    "\n",
    "class HeteroRGCN(nn.Module):\n",
    "    def __init__(self, ntype_dict, etypes, in_size, hidden_size, out_size, n_layers, embedding_size):\n",
    "        super(HeteroRGCN, self).__init__()\n",
    "        # Use trainable node embeddings as featureless inputs.\n",
    "        embed_dict = {ntype: nn.Parameter(torch.Tensor(num_nodes, in_size))\n",
    "                      for ntype, num_nodes in ntype_dict.items() if ntype != 'target'}\n",
    "        for key, embed in embed_dict.items():\n",
    "            nn.init.xavier_uniform_(embed)\n",
    "        self.embed = nn.ParameterDict(embed_dict)\n",
    "        # create layers\n",
    "        self.layers = nn.ModuleList()\n",
    "        self.layers.append(HeteroRGCNLayer(embedding_size, hidden_size, etypes))\n",
    "        # hidden layers\n",
    "        for i in range(n_layers - 1):\n",
    "            self.layers.append(HeteroRGCNLayer(hidden_size, hidden_size, etypes))\n",
    "\n",
    "        # output layer\n",
    "        self.layers.append(nn.Linear(hidden_size, out_size))\n",
    "\n",
    "    def forward(self, g, features):\n",
    "        # get embeddings for all node types. for user node type, use passed in user features\n",
    "        h_dict = {ntype: emb for ntype, emb in self.embed.items()}\n",
    "        # feat_para = torch.tensor(features)\n",
    "        h_dict['target'] = features\n",
    "\n",
    "        # pass through all layers\n",
    "        for i, layer in enumerate(self.layers[:-1]):\n",
    "            if i != 0:\n",
    "                h_dict = {k: F.leaky_relu(h) for k, h in h_dict.items()}\n",
    "            h_dict = layer(g, h_dict)\n",
    "\n",
    "        # get user logits\n",
    "        return self.layers[-1](h_dict['target'])"
   ]
  },
  {
   "cell_type": "markdown",
   "id": "0c3812ad",
   "metadata": {
    "papermill": {
     "duration": 0.019044,
     "end_time": "2023-05-07T22:50:15.287562",
     "exception": false,
     "start_time": "2023-05-07T22:50:15.268518",
     "status": "completed"
    },
    "tags": []
   },
   "source": [
    "***train***"
   ]
  },
  {
   "cell_type": "code",
   "execution_count": 47,
   "id": "073bfbe5",
   "metadata": {
    "execution": {
     "iopub.execute_input": "2023-05-07T22:50:15.328514Z",
     "iopub.status.busy": "2023-05-07T22:50:15.328110Z",
     "iopub.status.idle": "2023-05-07T22:50:15.334721Z",
     "shell.execute_reply": "2023-05-07T22:50:15.333361Z"
    },
    "papermill": {
     "duration": 0.029712,
     "end_time": "2023-05-07T22:50:15.337015",
     "exception": false,
     "start_time": "2023-05-07T22:50:15.307303",
     "status": "completed"
    },
    "tags": []
   },
   "outputs": [
    {
     "name": "stdout",
     "output_type": "stream",
     "text": [
      "DLG version: 1.1.0\n"
     ]
    }
   ],
   "source": [
    "os.environ['DGLBACKEND'] = 'pytorch'\n",
    "\n",
    "import torch as th\n",
    "import dgl\n",
    "print('DLG version: {}'.format(dgl.__version__))\n",
    "import numpy as np\n",
    "import pandas as pd\n",
    "import time\n",
    "import pickle\n",
    "import copy"
   ]
  },
  {
   "cell_type": "code",
   "execution_count": 48,
   "id": "31034d9e",
   "metadata": {
    "execution": {
     "iopub.execute_input": "2023-05-07T22:50:15.379099Z",
     "iopub.status.busy": "2023-05-07T22:50:15.378205Z",
     "iopub.status.idle": "2023-05-07T22:50:15.383396Z",
     "shell.execute_reply": "2023-05-07T22:50:15.382512Z"
    },
    "papermill": {
     "duration": 0.028846,
     "end_time": "2023-05-07T22:50:15.385686",
     "exception": false,
     "start_time": "2023-05-07T22:50:15.356840",
     "status": "completed"
    },
    "tags": []
   },
   "outputs": [],
   "source": [
    "from sklearn.metrics import confusion_matrix"
   ]
  },
  {
   "cell_type": "code",
   "execution_count": 49,
   "id": "df33dfd2",
   "metadata": {
    "execution": {
     "iopub.execute_input": "2023-05-07T22:50:15.426759Z",
     "iopub.status.busy": "2023-05-07T22:50:15.425976Z",
     "iopub.status.idle": "2023-05-07T22:50:15.431338Z",
     "shell.execute_reply": "2023-05-07T22:50:15.430563Z"
    },
    "papermill": {
     "duration": 0.028362,
     "end_time": "2023-05-07T22:50:15.433439",
     "exception": false,
     "start_time": "2023-05-07T22:50:15.405077",
     "status": "completed"
    },
    "tags": []
   },
   "outputs": [],
   "source": [
    "def initial_record():\n",
    "    if os.path.exists('/kaggle/working/results.txt'):\n",
    "        os.remove('/kaggle/working/results.txt')\n",
    "    with open('/kaggle/working/results.txt','w') as f:    \n",
    "        f.write(\"Epoch,Time(s),Loss,F1\\n\")   "
   ]
  },
  {
   "cell_type": "code",
   "execution_count": 50,
   "id": "29390a0f",
   "metadata": {
    "execution": {
     "iopub.execute_input": "2023-05-07T22:50:15.474246Z",
     "iopub.status.busy": "2023-05-07T22:50:15.473514Z",
     "iopub.status.idle": "2023-05-07T22:50:15.478965Z",
     "shell.execute_reply": "2023-05-07T22:50:15.478242Z"
    },
    "papermill": {
     "duration": 0.028379,
     "end_time": "2023-05-07T22:50:15.481096",
     "exception": false,
     "start_time": "2023-05-07T22:50:15.452717",
     "status": "completed"
    },
    "tags": []
   },
   "outputs": [],
   "source": [
    "def normalize(feature_matrix):\n",
    "    mean = th.mean(feature_matrix, axis=0)\n",
    "    stdev = th.sqrt(th.sum((feature_matrix - mean)**2, axis=0)/feature_matrix.shape[0])\n",
    "    return mean, stdev, (feature_matrix - mean) / stdev"
   ]
  },
  {
   "cell_type": "code",
   "execution_count": 51,
   "id": "a189c54e",
   "metadata": {
    "execution": {
     "iopub.execute_input": "2023-05-07T22:50:15.521963Z",
     "iopub.status.busy": "2023-05-07T22:50:15.521180Z",
     "iopub.status.idle": "2023-05-07T22:50:15.531542Z",
     "shell.execute_reply": "2023-05-07T22:50:15.530705Z"
    },
    "papermill": {
     "duration": 0.033716,
     "end_time": "2023-05-07T22:50:15.533853",
     "exception": false,
     "start_time": "2023-05-07T22:50:15.500137",
     "status": "completed"
    },
    "tags": []
   },
   "outputs": [],
   "source": [
    "def train_fg(model, optim, loss, features, labels, train_g, test_g, test_mask,\n",
    "             device, n_epochs, thresh, compute_metrics=True):\n",
    "    \"\"\"\n",
    "    A full graph verison of RGCN training\n",
    "    \"\"\"\n",
    "\n",
    "    duration = []\n",
    "    best_loss = 1\n",
    "    for epoch in range(n_epochs):\n",
    "        tic = time.time()\n",
    "        loss_val = 0.\n",
    "\n",
    "        pred = model(train_g, features.to(device))\n",
    "\n",
    "        l = loss(pred, labels)\n",
    "\n",
    "        optim.zero_grad()\n",
    "        l.backward()\n",
    "        optim.step()\n",
    "\n",
    "        loss_val += l\n",
    "\n",
    "        duration.append(time.time() - tic)\n",
    "        metric = evaluate(model, train_g, features, labels, device)\n",
    "        print(\"Epoch {:05d}, Time(s) {:.4f}, Loss {:.4f}, F1 {:.4f} \".format(\n",
    "                epoch, np.mean(duration), loss_val, metric))\n",
    "        \n",
    "        epoch_result = \"{:05d},{:.4f},{:.4f},{:.4f}\\n\".format(epoch, np.mean(duration), loss_val, metric)\n",
    "        with open('/kaggle/working/results.txt','a+') as f:    \n",
    "            f.write(epoch_result)  \n",
    "\n",
    "        if loss_val < best_loss:\n",
    "            best_loss = loss_val\n",
    "            best_model = copy.deepcopy(model)\n",
    "\n",
    "\n",
    "    class_preds, pred_proba = get_model_class_predictions(best_model,\n",
    "                                                          test_g,\n",
    "                                                          features,\n",
    "                                                          labels,\n",
    "                                                          device,\n",
    "                                                          threshold=thresh)\n",
    "\n",
    "    if compute_metrics:\n",
    "        acc, f1, p, r, roc, pr, ap, cm = get_metrics(class_preds, pred_proba, labels.numpy(), test_mask.numpy(), '/kaggle/working')\n",
    "        print(\"Metrics\")\n",
    "        print(\"\"\"Confusion Matrix:\n",
    "                                {}\n",
    "                                f1: {:.4f}, precision: {:.4f}, recall: {:.4f}, acc: {:.4f}, roc: {:.4f}, pr: {:.4f}, ap: {:.4f}\n",
    "                             \"\"\".format(cm, f1, p, r, acc, roc, pr, ap))\n",
    "\n",
    "    return best_model, class_preds, pred_proba"
   ]
  },
  {
   "cell_type": "code",
   "execution_count": 52,
   "id": "2b6ffcae",
   "metadata": {
    "execution": {
     "iopub.execute_input": "2023-05-07T22:50:15.574683Z",
     "iopub.status.busy": "2023-05-07T22:50:15.573929Z",
     "iopub.status.idle": "2023-05-07T22:50:15.580245Z",
     "shell.execute_reply": "2023-05-07T22:50:15.579502Z"
    },
    "papermill": {
     "duration": 0.029309,
     "end_time": "2023-05-07T22:50:15.582341",
     "exception": false,
     "start_time": "2023-05-07T22:50:15.553032",
     "status": "completed"
    },
    "tags": []
   },
   "outputs": [],
   "source": [
    "def get_f1_score(y_true, y_pred):\n",
    "    \"\"\"\n",
    "    Only works for binary case.\n",
    "    Attention!\n",
    "    tn, fp, fn, tp = cf_m[0,0],cf_m[0,1],cf_m[1,0],cf_m[1,1]\n",
    "    :param y_true: A list of labels in 0 or 1: 1 * N\n",
    "    :param y_pred: A list of labels in 0 or 1: 1 * N\n",
    "    :return:\n",
    "    \"\"\"\n",
    "    # print(y_true, y_pred)\n",
    "\n",
    "    cf_m = confusion_matrix(y_true, y_pred)\n",
    "    # print(cf_m)\n",
    "\n",
    "    precision = cf_m[1,1] / (cf_m[1,1] + cf_m[0,1] + 10e-5)\n",
    "    recall = cf_m[1,1] / (cf_m[1,1] + cf_m[1,0])\n",
    "    f1 = 2 * (precision * recall) / (precision + recall + 10e-5)\n",
    "\n",
    "    return precision, recall, f1\n"
   ]
  },
  {
   "cell_type": "code",
   "execution_count": 53,
   "id": "f23873d0",
   "metadata": {
    "execution": {
     "iopub.execute_input": "2023-05-07T22:50:15.622825Z",
     "iopub.status.busy": "2023-05-07T22:50:15.622052Z",
     "iopub.status.idle": "2023-05-07T22:50:15.627645Z",
     "shell.execute_reply": "2023-05-07T22:50:15.626973Z"
    },
    "papermill": {
     "duration": 0.028287,
     "end_time": "2023-05-07T22:50:15.629703",
     "exception": false,
     "start_time": "2023-05-07T22:50:15.601416",
     "status": "completed"
    },
    "tags": []
   },
   "outputs": [],
   "source": [
    "def evaluate(model, g, features, labels, device):\n",
    "    \"Compute the F1 value in a binary classification case\"\n",
    "\n",
    "    preds = model(g, features.to(device))\n",
    "    preds = th.argmax(preds, axis=1).numpy()\n",
    "    precision, recall, f1 = get_f1_score(labels, preds)\n",
    "\n",
    "    return f1\n"
   ]
  },
  {
   "cell_type": "code",
   "execution_count": 54,
   "id": "58acbd9a",
   "metadata": {
    "execution": {
     "iopub.execute_input": "2023-05-07T22:50:15.670062Z",
     "iopub.status.busy": "2023-05-07T22:50:15.669346Z",
     "iopub.status.idle": "2023-05-07T22:50:15.675739Z",
     "shell.execute_reply": "2023-05-07T22:50:15.674943Z"
    },
    "papermill": {
     "duration": 0.029066,
     "end_time": "2023-05-07T22:50:15.677829",
     "exception": false,
     "start_time": "2023-05-07T22:50:15.648763",
     "status": "completed"
    },
    "tags": []
   },
   "outputs": [],
   "source": [
    "def get_model_class_predictions(model, g, features, labels, device, threshold=None):\n",
    "    unnormalized_preds = model(g, features.to(device))\n",
    "    pred_proba = th.softmax(unnormalized_preds, dim=-1)\n",
    "    if not threshold:\n",
    "        return unnormalized_preds.argmax(axis=1).detach().numpy(), pred_proba[:,1].detach().numpy()\n",
    "    return np.where(pred_proba.detach().numpy() > threshold, 1, 0), pred_proba[:,1].detach().numpy()"
   ]
  },
  {
   "cell_type": "code",
   "execution_count": 55,
   "id": "fe5e2351",
   "metadata": {
    "execution": {
     "iopub.execute_input": "2023-05-07T22:50:15.718148Z",
     "iopub.status.busy": "2023-05-07T22:50:15.717747Z",
     "iopub.status.idle": "2023-05-07T22:50:15.728006Z",
     "shell.execute_reply": "2023-05-07T22:50:15.727242Z"
    },
    "papermill": {
     "duration": 0.032711,
     "end_time": "2023-05-07T22:50:15.729916",
     "exception": false,
     "start_time": "2023-05-07T22:50:15.697205",
     "status": "completed"
    },
    "tags": []
   },
   "outputs": [],
   "source": [
    "def save_model(g, model, model_dir, id_to_node, mean, stdev):\n",
    "\n",
    "    # Save Pytorch model's parameters to model.pth\n",
    "    th.save(model.state_dict(), os.path.join(model_dir, 'model.pth'))\n",
    "\n",
    "    # Save graph's structure information to metadata.pkl for inference codes to initialize RGCN model.\n",
    "    etype_list = g.canonical_etypes\n",
    "    ntype_cnt = {ntype: g.number_of_nodes(ntype) for ntype in g.ntypes}\n",
    "    with open(os.path.join(model_dir, 'metadata.pkl'), 'wb') as f:\n",
    "        pickle.dump({'etypes': etype_list,\n",
    "                     'ntype_cnt': ntype_cnt,\n",
    "                     'feat_mean': mean,\n",
    "                     'feat_std': stdev}, f)\n",
    "\n",
    "    # Save original IDs to Node_ids, and trained embedding for non-target node type\n",
    "    # Covert id_to_node into pandas dataframes\n",
    "    for ntype, mapping in id_to_node.items():\n",
    "\n",
    "        # ignore target node\n",
    "        if ntype == 'target':\n",
    "            continue\n",
    "\n",
    "        # retrieve old and node id list\n",
    "        old_id_list, node_id_list = [], []\n",
    "        for old_id, node_id in mapping.items():\n",
    "            old_id_list.append(old_id)\n",
    "            node_id_list.append(node_id)\n",
    "\n",
    "        # retrieve embeddings of a node type\n",
    "        node_feats = model.embed[ntype].detach().numpy()\n",
    "\n",
    "        # get the number of nodes and the dimension of features\n",
    "        num_nodes = node_feats.shape[0]\n",
    "        num_feats = node_feats.shape[1]\n",
    "\n",
    "        # create id dataframe\n",
    "        node_ids_df = pd.DataFrame({'~label': [ntype] * num_nodes})\n",
    "        node_ids_df['~id_tmp'] = old_id_list\n",
    "        node_ids_df['~id'] = node_ids_df['~label'] + '-' + node_ids_df['~id_tmp']\n",
    "        node_ids_df['node_id'] = node_id_list\n",
    "\n",
    "        # create feature dataframe columns\n",
    "        cols = {'val' + str(i + 1) + ':Double': node_feats[:, i] for i in range(num_feats)}\n",
    "        node_feats_df = pd.DataFrame(cols)\n",
    "\n",
    "        # merge id with feature, where feature_df use index\n",
    "        node_id_feats_df = node_ids_df.merge(node_feats_df, left_on='node_id', right_on=node_feats_df.index)\n",
    "        # drop the id_tmp and node_id columns to follow the Grelim format requirements\n",
    "        node_id_feats_df = node_id_feats_df.drop(['~id_tmp', 'node_id'], axis=1)\n",
    "\n",
    "        # dump the embeddings to files\n",
    "        node_id_feats_df.to_csv(os.path.join(model_dir, ntype + '.csv'),\n",
    "                                index=False, header=True, encoding='utf-8')"
   ]
  },
  {
   "cell_type": "code",
   "execution_count": 56,
   "id": "6dad77ed",
   "metadata": {
    "execution": {
     "iopub.execute_input": "2023-05-07T22:50:15.770444Z",
     "iopub.status.busy": "2023-05-07T22:50:15.769819Z",
     "iopub.status.idle": "2023-05-07T22:50:15.775601Z",
     "shell.execute_reply": "2023-05-07T22:50:15.774880Z"
    },
    "papermill": {
     "duration": 0.028381,
     "end_time": "2023-05-07T22:50:15.777600",
     "exception": false,
     "start_time": "2023-05-07T22:50:15.749219",
     "status": "completed"
    },
    "tags": []
   },
   "outputs": [],
   "source": [
    "def get_model(ntype_dict, etypes, hyperparams, in_feats, n_classes, device):\n",
    "\n",
    "    model = HeteroRGCN(ntype_dict, etypes, in_feats, hyperparams['n_hidden'], n_classes, hyperparams['n_layers'], in_feats)\n",
    "    model = model.to(device)\n",
    "\n",
    "    return model"
   ]
  },
  {
   "cell_type": "markdown",
   "id": "afbfb191",
   "metadata": {
    "papermill": {
     "duration": 0.018591,
     "end_time": "2023-05-07T22:50:15.815293",
     "exception": false,
     "start_time": "2023-05-07T22:50:15.796702",
     "status": "completed"
    },
    "tags": []
   },
   "source": [
    "**Load data**"
   ]
  },
  {
   "cell_type": "code",
   "execution_count": 57,
   "id": "5753f305",
   "metadata": {
    "execution": {
     "iopub.execute_input": "2023-05-07T22:50:15.856144Z",
     "iopub.status.busy": "2023-05-07T22:50:15.855755Z",
     "iopub.status.idle": "2023-05-07T22:50:15.877451Z",
     "shell.execute_reply": "2023-05-07T22:50:15.876200Z"
    },
    "papermill": {
     "duration": 0.044802,
     "end_time": "2023-05-07T22:50:15.879925",
     "exception": false,
     "start_time": "2023-05-07T22:50:15.835123",
     "status": "completed"
    },
    "tags": []
   },
   "outputs": [],
   "source": [
    "file_list = glob.glob('/kaggle/working/*edgelist.csv')\n",
    "\n",
    "edges = \",\".join(map(lambda x: x.split(\"/\")[-1], [file for file in file_list if \"relation\" in file]))"
   ]
  },
  {
   "cell_type": "markdown",
   "id": "cfb06643",
   "metadata": {
    "papermill": {
     "duration": 0.019253,
     "end_time": "2023-05-07T22:50:15.918762",
     "exception": false,
     "start_time": "2023-05-07T22:50:15.899509",
     "status": "completed"
    },
    "tags": []
   },
   "source": [
    "**Generate graph**"
   ]
  },
  {
   "cell_type": "code",
   "execution_count": 58,
   "id": "0ea6fd19",
   "metadata": {
    "execution": {
     "iopub.execute_input": "2023-05-07T22:50:15.960399Z",
     "iopub.status.busy": "2023-05-07T22:50:15.960031Z",
     "iopub.status.idle": "2023-05-07T22:50:15.968252Z",
     "shell.execute_reply": "2023-05-07T22:50:15.967094Z"
    },
    "papermill": {
     "duration": 0.031625,
     "end_time": "2023-05-07T22:50:15.970375",
     "exception": false,
     "start_time": "2023-05-07T22:50:15.938750",
     "status": "completed"
    },
    "tags": []
   },
   "outputs": [
    {
     "name": "stdout",
     "output_type": "stream",
     "text": [
      "numpy version:1.23.5 PyTorch version:2.0.0+cpu DGL version:1.1.0\n",
      "Namespace(training_dir='/kaggle/working', model_dir='/kaggle/working2023_05_07_22_50_15', output_dir='/kaggle/working', nodes='/kaggle/working/features.csv', target_ntype='TransactionID', edges='/kaggle/working/relation*', labels='/kaggle/working/tags.csv', new_accounts='/kaggle/working/test.csv', compute_metrics=True, threshold=0, num_gpus=0, optimizer='adam', lr=0.01, n_epochs=5, n_hidden=32, n_layers=6, weight_decay=0.0005, dropout=0.2, embedding_size=360)\n"
     ]
    }
   ],
   "source": [
    "print('numpy version:{} PyTorch version:{} DGL version:{}'.format(np.__version__,\n",
    "                                                                    th.__version__,\n",
    "                                                                    dgl.__version__))\n",
    "\n",
    "args = parse_args()\n",
    "print(args)"
   ]
  },
  {
   "cell_type": "code",
   "execution_count": 59,
   "id": "fdd213e5",
   "metadata": {
    "execution": {
     "iopub.execute_input": "2023-05-07T22:50:16.011028Z",
     "iopub.status.busy": "2023-05-07T22:50:16.010668Z",
     "iopub.status.idle": "2023-05-07T22:53:08.256097Z",
     "shell.execute_reply": "2023-05-07T22:53:08.254855Z"
    },
    "papermill": {
     "duration": 172.268972,
     "end_time": "2023-05-07T22:53:08.258726",
     "exception": false,
     "start_time": "2023-05-07T22:50:15.989754",
     "status": "completed"
    },
    "tags": []
   },
   "outputs": [
    {
     "name": "stdout",
     "output_type": "stream",
     "text": [
      "Getting relation graphs from the following edge lists : ['relation_id_27_edgelist.csv', 'relation_id_24_edgelist.csv', 'relation_addr1_edgelist.csv', 'relation_id_25_edgelist.csv', 'relation_id_26_edgelist.csv', 'relation_id_09_edgelist.csv', 'relation_id_22_edgelist.csv', 'relation_id_15_edgelist.csv', 'relation_id_07_edgelist.csv', 'relation_id_38_edgelist.csv', 'relation_id_29_edgelist.csv', 'relation_id_05_edgelist.csv', 'relation_DeviceType_edgelist.csv', 'relation_id_03_edgelist.csv', 'relation_id_19_edgelist.csv', 'relation_card1_edgelist.csv', 'relation_id_16_edgelist.csv', 'relation_id_06_edgelist.csv', 'relation_id_35_edgelist.csv', 'relation_id_10_edgelist.csv', 'relation_id_20_edgelist.csv', 'relation_id_34_edgelist.csv', 'relation_id_32_edgelist.csv', 'relation_id_18_edgelist.csv', 'relation_id_23_edgelist.csv', 'relation_id_17_edgelist.csv', 'relation_card2_edgelist.csv', 'relation_id_12_edgelist.csv', 'relation_id_02_edgelist.csv', 'relation_id_08_edgelist.csv', 'relation_DeviceInfo_edgelist.csv', 'relation_ProductCD_edgelist.csv', 'relation_id_01_edgelist.csv', 'relation_id_14_edgelist.csv', 'relation_id_21_edgelist.csv', 'relation_P_emaildomain_edgelist.csv', 'relation_id_30_edgelist.csv', 'relation_id_13_edgelist.csv', 'relation_id_31_edgelist.csv', 'relation_card6_edgelist.csv', 'relation_TransactionID_edgelist.csv', 'relation_id_11_edgelist.csv', 'relation_card3_edgelist.csv', 'relation_card5_edgelist.csv', 'relation_id_04_edgelist.csv', 'relation_card4_edgelist.csv', 'relation_R_emaildomain_edgelist.csv', 'relation_id_37_edgelist.csv', 'relation_id_28_edgelist.csv', 'relation_addr2_edgelist.csv', 'relation_id_36_edgelist.csv', 'relation_id_33_edgelist.csv'] \n",
      "Read edges for target<id_27> from edgelist: /kaggle/working/relation_id_27_edgelist.csv\n",
      "Read edges for target<id_24> from edgelist: /kaggle/working/relation_id_24_edgelist.csv\n",
      "Read edges for target<addr1> from edgelist: /kaggle/working/relation_addr1_edgelist.csv\n",
      "Read edges for target<id_25> from edgelist: /kaggle/working/relation_id_25_edgelist.csv\n",
      "Read edges for target<id_26> from edgelist: /kaggle/working/relation_id_26_edgelist.csv\n",
      "Read edges for target<id_09> from edgelist: /kaggle/working/relation_id_09_edgelist.csv\n",
      "Read edges for target<id_22> from edgelist: /kaggle/working/relation_id_22_edgelist.csv\n",
      "Read edges for target<id_15> from edgelist: /kaggle/working/relation_id_15_edgelist.csv\n",
      "Read edges for target<id_07> from edgelist: /kaggle/working/relation_id_07_edgelist.csv\n",
      "Read edges for target<id_38> from edgelist: /kaggle/working/relation_id_38_edgelist.csv\n",
      "Read edges for target<id_29> from edgelist: /kaggle/working/relation_id_29_edgelist.csv\n",
      "Read edges for target<id_05> from edgelist: /kaggle/working/relation_id_05_edgelist.csv\n",
      "Read edges for target<DeviceType> from edgelist: /kaggle/working/relation_DeviceType_edgelist.csv\n",
      "Read edges for target<id_03> from edgelist: /kaggle/working/relation_id_03_edgelist.csv\n",
      "Read edges for target<id_19> from edgelist: /kaggle/working/relation_id_19_edgelist.csv\n",
      "Read edges for target<card1> from edgelist: /kaggle/working/relation_card1_edgelist.csv\n",
      "Read edges for target<id_16> from edgelist: /kaggle/working/relation_id_16_edgelist.csv\n",
      "Read edges for target<id_06> from edgelist: /kaggle/working/relation_id_06_edgelist.csv\n",
      "Read edges for target<id_35> from edgelist: /kaggle/working/relation_id_35_edgelist.csv\n",
      "Read edges for target<id_10> from edgelist: /kaggle/working/relation_id_10_edgelist.csv\n",
      "Read edges for target<id_20> from edgelist: /kaggle/working/relation_id_20_edgelist.csv\n",
      "Read edges for target<id_34> from edgelist: /kaggle/working/relation_id_34_edgelist.csv\n",
      "Read edges for target<id_32> from edgelist: /kaggle/working/relation_id_32_edgelist.csv\n",
      "Read edges for target<id_18> from edgelist: /kaggle/working/relation_id_18_edgelist.csv\n",
      "Read edges for target<id_23> from edgelist: /kaggle/working/relation_id_23_edgelist.csv\n",
      "Read edges for target<id_17> from edgelist: /kaggle/working/relation_id_17_edgelist.csv\n",
      "Read edges for target<card2> from edgelist: /kaggle/working/relation_card2_edgelist.csv\n",
      "Read edges for target<id_12> from edgelist: /kaggle/working/relation_id_12_edgelist.csv\n",
      "Read edges for target<id_02> from edgelist: /kaggle/working/relation_id_02_edgelist.csv\n",
      "Read edges for target<id_08> from edgelist: /kaggle/working/relation_id_08_edgelist.csv\n",
      "Read edges for target<DeviceInfo> from edgelist: /kaggle/working/relation_DeviceInfo_edgelist.csv\n",
      "Read edges for target<ProductCD> from edgelist: /kaggle/working/relation_ProductCD_edgelist.csv\n",
      "Read edges for target<id_01> from edgelist: /kaggle/working/relation_id_01_edgelist.csv\n",
      "Read edges for target<id_14> from edgelist: /kaggle/working/relation_id_14_edgelist.csv\n",
      "Read edges for target<id_21> from edgelist: /kaggle/working/relation_id_21_edgelist.csv\n",
      "Read edges for target<P_emaildomain> from edgelist: /kaggle/working/relation_P_emaildomain_edgelist.csv\n",
      "Read edges for target<id_30> from edgelist: /kaggle/working/relation_id_30_edgelist.csv\n",
      "Read edges for target<id_13> from edgelist: /kaggle/working/relation_id_13_edgelist.csv\n",
      "Read edges for target<id_31> from edgelist: /kaggle/working/relation_id_31_edgelist.csv\n",
      "Read edges for target<card6> from edgelist: /kaggle/working/relation_card6_edgelist.csv\n",
      "Will add self loop for target later......\n",
      "Read edges for target<id_11> from edgelist: /kaggle/working/relation_id_11_edgelist.csv\n",
      "Read edges for target<card3> from edgelist: /kaggle/working/relation_card3_edgelist.csv\n",
      "Read edges for target<card5> from edgelist: /kaggle/working/relation_card5_edgelist.csv\n",
      "Read edges for target<id_04> from edgelist: /kaggle/working/relation_id_04_edgelist.csv\n",
      "Read edges for target<card4> from edgelist: /kaggle/working/relation_card4_edgelist.csv\n",
      "Read edges for target<R_emaildomain> from edgelist: /kaggle/working/relation_R_emaildomain_edgelist.csv\n",
      "Read edges for target<id_37> from edgelist: /kaggle/working/relation_id_37_edgelist.csv\n",
      "Read edges for target<id_28> from edgelist: /kaggle/working/relation_id_28_edgelist.csv\n",
      "Read edges for target<addr2> from edgelist: /kaggle/working/relation_addr2_edgelist.csv\n",
      "Read edges for target<id_36> from edgelist: /kaggle/working/relation_id_36_edgelist.csv\n",
      "Read edges for target<id_33> from edgelist: /kaggle/working/relation_id_33_edgelist.csv\n",
      "Read in features for target nodes\n",
      "Constructed heterograph with the following metagraph structure: Node types ['DeviceInfo', 'DeviceType', 'P_emaildomain', 'ProductCD', 'R_emaildomain', 'addr1', 'addr2', 'card1', 'card2', 'card3', 'card4', 'card5', 'card6', 'id_01', 'id_02', 'id_03', 'id_04', 'id_05', 'id_06', 'id_07', 'id_08', 'id_09', 'id_10', 'id_11', 'id_12', 'id_13', 'id_14', 'id_15', 'id_16', 'id_17', 'id_18', 'id_19', 'id_20', 'id_21', 'id_22', 'id_23', 'id_24', 'id_25', 'id_26', 'id_27', 'id_28', 'id_29', 'id_30', 'id_31', 'id_32', 'id_33', 'id_34', 'id_35', 'id_36', 'id_37', 'id_38', 'target'], Edge types[('DeviceInfo', 'DeviceInfo<>target', 'target'), ('DeviceType', 'DeviceType<>target', 'target'), ('P_emaildomain', 'P_emaildomain<>target', 'target'), ('ProductCD', 'ProductCD<>target', 'target'), ('R_emaildomain', 'R_emaildomain<>target', 'target'), ('addr1', 'addr1<>target', 'target'), ('addr2', 'addr2<>target', 'target'), ('card1', 'card1<>target', 'target'), ('card2', 'card2<>target', 'target'), ('card3', 'card3<>target', 'target'), ('card4', 'card4<>target', 'target'), ('card5', 'card5<>target', 'target'), ('card6', 'card6<>target', 'target'), ('id_01', 'id_01<>target', 'target'), ('id_02', 'id_02<>target', 'target'), ('id_03', 'id_03<>target', 'target'), ('id_04', 'id_04<>target', 'target'), ('id_05', 'id_05<>target', 'target'), ('id_06', 'id_06<>target', 'target'), ('id_07', 'id_07<>target', 'target'), ('id_08', 'id_08<>target', 'target'), ('id_09', 'id_09<>target', 'target'), ('id_10', 'id_10<>target', 'target'), ('id_11', 'id_11<>target', 'target'), ('id_12', 'id_12<>target', 'target'), ('id_13', 'id_13<>target', 'target'), ('id_14', 'id_14<>target', 'target'), ('id_15', 'id_15<>target', 'target'), ('id_16', 'id_16<>target', 'target'), ('id_17', 'id_17<>target', 'target'), ('id_18', 'id_18<>target', 'target'), ('id_19', 'id_19<>target', 'target'), ('id_20', 'id_20<>target', 'target'), ('id_21', 'id_21<>target', 'target'), ('id_22', 'id_22<>target', 'target'), ('id_23', 'id_23<>target', 'target'), ('id_24', 'id_24<>target', 'target'), ('id_25', 'id_25<>target', 'target'), ('id_26', 'id_26<>target', 'target'), ('id_27', 'id_27<>target', 'target'), ('id_28', 'id_28<>target', 'target'), ('id_29', 'id_29<>target', 'target'), ('id_30', 'id_30<>target', 'target'), ('id_31', 'id_31<>target', 'target'), ('id_32', 'id_32<>target', 'target'), ('id_33', 'id_33<>target', 'target'), ('id_34', 'id_34<>target', 'target'), ('id_35', 'id_35<>target', 'target'), ('id_36', 'id_36<>target', 'target'), ('id_37', 'id_37<>target', 'target'), ('id_38', 'id_38<>target', 'target'), ('target', 'self_relation', 'target'), ('target', 'target<>DeviceInfo', 'DeviceInfo'), ('target', 'target<>DeviceType', 'DeviceType'), ('target', 'target<>P_emaildomain', 'P_emaildomain'), ('target', 'target<>ProductCD', 'ProductCD'), ('target', 'target<>R_emaildomain', 'R_emaildomain'), ('target', 'target<>addr1', 'addr1'), ('target', 'target<>addr2', 'addr2'), ('target', 'target<>card1', 'card1'), ('target', 'target<>card2', 'card2'), ('target', 'target<>card3', 'card3'), ('target', 'target<>card4', 'card4'), ('target', 'target<>card5', 'card5'), ('target', 'target<>card6', 'card6'), ('target', 'target<>id_01', 'id_01'), ('target', 'target<>id_02', 'id_02'), ('target', 'target<>id_03', 'id_03'), ('target', 'target<>id_04', 'id_04'), ('target', 'target<>id_05', 'id_05'), ('target', 'target<>id_06', 'id_06'), ('target', 'target<>id_07', 'id_07'), ('target', 'target<>id_08', 'id_08'), ('target', 'target<>id_09', 'id_09'), ('target', 'target<>id_10', 'id_10'), ('target', 'target<>id_11', 'id_11'), ('target', 'target<>id_12', 'id_12'), ('target', 'target<>id_13', 'id_13'), ('target', 'target<>id_14', 'id_14'), ('target', 'target<>id_15', 'id_15'), ('target', 'target<>id_16', 'id_16'), ('target', 'target<>id_17', 'id_17'), ('target', 'target<>id_18', 'id_18'), ('target', 'target<>id_19', 'id_19'), ('target', 'target<>id_20', 'id_20'), ('target', 'target<>id_21', 'id_21'), ('target', 'target<>id_22', 'id_22'), ('target', 'target<>id_23', 'id_23'), ('target', 'target<>id_24', 'id_24'), ('target', 'target<>id_25', 'id_25'), ('target', 'target<>id_26', 'id_26'), ('target', 'target<>id_27', 'id_27'), ('target', 'target<>id_28', 'id_28'), ('target', 'target<>id_29', 'id_29'), ('target', 'target<>id_30', 'id_30'), ('target', 'target<>id_31', 'id_31'), ('target', 'target<>id_32', 'id_32'), ('target', 'target<>id_33', 'id_33'), ('target', 'target<>id_34', 'id_34'), ('target', 'target<>id_35', 'id_35'), ('target', 'target<>id_36', 'id_36'), ('target', 'target<>id_37', 'id_37'), ('target', 'target<>id_38', 'id_38')]\n",
      "Number of nodes of type target : 590540\n",
      "feature mean shape:torch.Size([390]), std shape:torch.Size([390])\n"
     ]
    }
   ],
   "source": [
    "args.edges = edges\n",
    "\n",
    "args.edges = get_edgelists('relation*', args.training_dir)\n",
    "\n",
    "g, features, target_id_to_node, id_to_node = construct_graph(args.training_dir,\n",
    "                                                                args.edges,\n",
    "                                                                args.nodes,\n",
    "                                                                args.target_ntype)\n",
    "\n",
    "mean, stdev, features = normalize(th.from_numpy(features))\n",
    "\n",
    "print('feature mean shape:{}, std shape:{}'.format(mean.shape, stdev.shape))"
   ]
  },
  {
   "cell_type": "code",
   "execution_count": 60,
   "id": "0b56c613",
   "metadata": {
    "execution": {
     "iopub.execute_input": "2023-05-07T22:53:08.304317Z",
     "iopub.status.busy": "2023-05-07T22:53:08.303866Z",
     "iopub.status.idle": "2023-05-07T22:53:09.044610Z",
     "shell.execute_reply": "2023-05-07T22:53:09.043393Z"
    },
    "papermill": {
     "duration": 0.766394,
     "end_time": "2023-05-07T22:53:09.047099",
     "exception": false,
     "start_time": "2023-05-07T22:53:08.280705",
     "status": "completed"
    },
    "tags": []
   },
   "outputs": [
    {
     "name": "stdout",
     "output_type": "stream",
     "text": [
      "Getting labels\n",
      "Got labels\n",
      "----Data statistics------'\n",
      "            #Nodes: 726345\n",
      "            #Edges: 19518802\n",
      "            #Features Shape: torch.Size([590540, 390])\n",
      "            #Labeled Test samples: 118108.0\n"
     ]
    }
   ],
   "source": [
    "g.nodes['target'].data['features'] = features\n",
    "\n",
    "print(\"Getting labels\")\n",
    "n_nodes = g.number_of_nodes('target')\n",
    "\n",
    "labels, _, test_mask = get_labels(target_id_to_node,\n",
    "                                            n_nodes,\n",
    "                                            args.target_ntype,\n",
    "                                            os.path.join(args.training_dir, args.labels),\n",
    "                                            os.path.join(args.training_dir, args.new_accounts))\n",
    "print(\"Got labels\")\n",
    "\n",
    "labels = th.from_numpy(labels).float()\n",
    "test_mask = th.from_numpy(test_mask).float()\n",
    "\n",
    "n_nodes = th.sum(th.tensor([g.number_of_nodes(n_type) for n_type in g.ntypes]))\n",
    "n_edges = th.sum(th.tensor([g.number_of_edges(e_type) for e_type in g.etypes]))\n",
    "\n",
    "print(\"\"\"----Data statistics------'\n",
    "            #Nodes: {}\n",
    "            #Edges: {}\n",
    "            #Features Shape: {}\n",
    "            #Labeled Test samples: {}\"\"\".format(n_nodes,\n",
    "                                                    n_edges,\n",
    "                                                    features.shape,\n",
    "                                                    test_mask.sum()))"
   ]
  },
  {
   "cell_type": "markdown",
   "id": "99da2658",
   "metadata": {
    "papermill": {
     "duration": 0.021597,
     "end_time": "2023-05-07T22:53:09.091433",
     "exception": false,
     "start_time": "2023-05-07T22:53:09.069836",
     "status": "completed"
    },
    "tags": []
   },
   "source": [
    "**Training**"
   ]
  },
  {
   "cell_type": "code",
   "execution_count": 61,
   "id": "67f943b8",
   "metadata": {
    "execution": {
     "iopub.execute_input": "2023-05-07T22:53:09.137421Z",
     "iopub.status.busy": "2023-05-07T22:53:09.136674Z",
     "iopub.status.idle": "2023-05-07T22:53:09.141759Z",
     "shell.execute_reply": "2023-05-07T22:53:09.140942Z"
    },
    "papermill": {
     "duration": 0.03,
     "end_time": "2023-05-07T22:53:09.143717",
     "exception": false,
     "start_time": "2023-05-07T22:53:09.113717",
     "status": "completed"
    },
    "tags": []
   },
   "outputs": [],
   "source": [
    "if args.num_gpus:\n",
    "    cuda = True\n",
    "    device = th.device('cuda:0')\n",
    "else:\n",
    "    cuda = False\n",
    "    device = th.device('cpu')"
   ]
  },
  {
   "cell_type": "code",
   "execution_count": 62,
   "id": "ce3441dd",
   "metadata": {
    "execution": {
     "iopub.execute_input": "2023-05-07T22:53:09.189727Z",
     "iopub.status.busy": "2023-05-07T22:53:09.189345Z",
     "iopub.status.idle": "2023-05-07T22:53:09.194370Z",
     "shell.execute_reply": "2023-05-07T22:53:09.193307Z"
    },
    "papermill": {
     "duration": 0.030916,
     "end_time": "2023-05-07T22:53:09.197088",
     "exception": false,
     "start_time": "2023-05-07T22:53:09.166172",
     "status": "completed"
    },
    "tags": []
   },
   "outputs": [
    {
     "name": "stdout",
     "output_type": "stream",
     "text": [
      "Initializing Model\n"
     ]
    }
   ],
   "source": [
    "print(\"Initializing Model\")\n",
    "in_feats = features.shape[1]\n",
    "n_classes = 2"
   ]
  },
  {
   "cell_type": "code",
   "execution_count": 63,
   "id": "377c973e",
   "metadata": {
    "execution": {
     "iopub.execute_input": "2023-05-07T22:53:09.242640Z",
     "iopub.status.busy": "2023-05-07T22:53:09.242260Z",
     "iopub.status.idle": "2023-05-07T22:53:09.247307Z",
     "shell.execute_reply": "2023-05-07T22:53:09.246368Z"
    },
    "papermill": {
     "duration": 0.03038,
     "end_time": "2023-05-07T22:53:09.249394",
     "exception": false,
     "start_time": "2023-05-07T22:53:09.219014",
     "status": "completed"
    },
    "tags": []
   },
   "outputs": [],
   "source": [
    "ntype_dict = {n_type: g.number_of_nodes(n_type) for n_type in g.ntypes}"
   ]
  },
  {
   "cell_type": "code",
   "execution_count": 64,
   "id": "453ca576",
   "metadata": {
    "execution": {
     "iopub.execute_input": "2023-05-07T22:53:09.295027Z",
     "iopub.status.busy": "2023-05-07T22:53:09.294664Z",
     "iopub.status.idle": "2023-05-07T22:53:09.827278Z",
     "shell.execute_reply": "2023-05-07T22:53:09.826086Z"
    },
    "papermill": {
     "duration": 0.558058,
     "end_time": "2023-05-07T22:53:09.829506",
     "exception": false,
     "start_time": "2023-05-07T22:53:09.271448",
     "status": "completed"
    },
    "tags": []
   },
   "outputs": [
    {
     "name": "stdout",
     "output_type": "stream",
     "text": [
      "Initialized Model\n"
     ]
    }
   ],
   "source": [
    "model = get_model(ntype_dict, g.etypes, vars(args), in_feats, n_classes, device)\n",
    "print(\"Initialized Model\")"
   ]
  },
  {
   "cell_type": "code",
   "execution_count": 65,
   "id": "98104c1d",
   "metadata": {
    "execution": {
     "iopub.execute_input": "2023-05-07T22:53:09.875833Z",
     "iopub.status.busy": "2023-05-07T22:53:09.875102Z",
     "iopub.status.idle": "2023-05-07T22:53:09.879444Z",
     "shell.execute_reply": "2023-05-07T22:53:09.878478Z"
    },
    "papermill": {
     "duration": 0.029768,
     "end_time": "2023-05-07T22:53:09.881492",
     "exception": false,
     "start_time": "2023-05-07T22:53:09.851724",
     "status": "completed"
    },
    "tags": []
   },
   "outputs": [],
   "source": [
    "features = features.to(device)"
   ]
  },
  {
   "cell_type": "code",
   "execution_count": 66,
   "id": "6f571751",
   "metadata": {
    "execution": {
     "iopub.execute_input": "2023-05-07T22:53:09.929318Z",
     "iopub.status.busy": "2023-05-07T22:53:09.928926Z",
     "iopub.status.idle": "2023-05-07T22:53:09.935651Z",
     "shell.execute_reply": "2023-05-07T22:53:09.934814Z"
    },
    "papermill": {
     "duration": 0.033813,
     "end_time": "2023-05-07T22:53:09.937876",
     "exception": false,
     "start_time": "2023-05-07T22:53:09.904063",
     "status": "completed"
    },
    "tags": []
   },
   "outputs": [],
   "source": [
    "labels = labels.long().to(device)\n",
    "test_mask = test_mask.to(device)"
   ]
  },
  {
   "cell_type": "code",
   "execution_count": 67,
   "id": "fa61774f",
   "metadata": {
    "execution": {
     "iopub.execute_input": "2023-05-07T22:53:09.984286Z",
     "iopub.status.busy": "2023-05-07T22:53:09.983868Z",
     "iopub.status.idle": "2023-05-07T22:53:09.988508Z",
     "shell.execute_reply": "2023-05-07T22:53:09.987677Z"
    },
    "papermill": {
     "duration": 0.030336,
     "end_time": "2023-05-07T22:53:09.990616",
     "exception": false,
     "start_time": "2023-05-07T22:53:09.960280",
     "status": "completed"
    },
    "tags": []
   },
   "outputs": [],
   "source": [
    "loss = th.nn.CrossEntropyLoss()"
   ]
  },
  {
   "cell_type": "code",
   "execution_count": 68,
   "id": "9347450c",
   "metadata": {
    "execution": {
     "iopub.execute_input": "2023-05-07T22:53:10.038466Z",
     "iopub.status.busy": "2023-05-07T22:53:10.038062Z",
     "iopub.status.idle": "2023-05-07T22:53:10.047329Z",
     "shell.execute_reply": "2023-05-07T22:53:10.046447Z"
    },
    "papermill": {
     "duration": 0.035109,
     "end_time": "2023-05-07T22:53:10.049269",
     "exception": false,
     "start_time": "2023-05-07T22:53:10.014160",
     "status": "completed"
    },
    "tags": []
   },
   "outputs": [],
   "source": [
    "# print(model)\n",
    "optim = th.optim.Adam(model.parameters(), lr=args.lr, weight_decay=args.weight_decay)\n"
   ]
  },
  {
   "cell_type": "code",
   "execution_count": 69,
   "id": "9fa91c0e",
   "metadata": {
    "execution": {
     "iopub.execute_input": "2023-05-07T22:53:10.096006Z",
     "iopub.status.busy": "2023-05-07T22:53:10.094903Z",
     "iopub.status.idle": "2023-05-07T22:53:10.100433Z",
     "shell.execute_reply": "2023-05-07T22:53:10.099243Z"
    },
    "papermill": {
     "duration": 0.030781,
     "end_time": "2023-05-07T22:53:10.102379",
     "exception": false,
     "start_time": "2023-05-07T22:53:10.071598",
     "status": "completed"
    },
    "tags": []
   },
   "outputs": [
    {
     "name": "stdout",
     "output_type": "stream",
     "text": [
      "Starting Model training\n"
     ]
    }
   ],
   "source": [
    "print(\"Starting Model training\")"
   ]
  },
  {
   "cell_type": "code",
   "execution_count": 70,
   "id": "071ba55b",
   "metadata": {
    "execution": {
     "iopub.execute_input": "2023-05-07T22:53:10.151145Z",
     "iopub.status.busy": "2023-05-07T22:53:10.150438Z",
     "iopub.status.idle": "2023-05-07T22:53:10.154831Z",
     "shell.execute_reply": "2023-05-07T22:53:10.154081Z"
    },
    "papermill": {
     "duration": 0.030251,
     "end_time": "2023-05-07T22:53:10.156922",
     "exception": false,
     "start_time": "2023-05-07T22:53:10.126671",
     "status": "completed"
    },
    "tags": []
   },
   "outputs": [],
   "source": [
    "initial_record()"
   ]
  },
  {
   "cell_type": "code",
   "execution_count": 71,
   "id": "e2155311",
   "metadata": {
    "execution": {
     "iopub.execute_input": "2023-05-07T22:53:10.203901Z",
     "iopub.status.busy": "2023-05-07T22:53:10.203520Z",
     "iopub.status.idle": "2023-05-07T23:08:45.121333Z",
     "shell.execute_reply": "2023-05-07T23:08:45.120249Z"
    },
    "papermill": {
     "duration": 934.944785,
     "end_time": "2023-05-07T23:08:45.124306",
     "exception": false,
     "start_time": "2023-05-07T22:53:10.179521",
     "status": "completed"
    },
    "tags": []
   },
   "outputs": [
    {
     "name": "stderr",
     "output_type": "stream",
     "text": [
      "/opt/conda/lib/python3.10/site-packages/dgl/backend/pytorch/tensor.py:449: UserWarning: TypedStorage is deprecated. It will be removed in the future and UntypedStorage will be the only storage class. This should only matter to you if you are using storages directly.  To access UntypedStorage directly, use tensor.untyped_storage() instead of tensor.storage()\n",
      "  assert input.numel() == input.storage().size(), (\n"
     ]
    },
    {
     "name": "stdout",
     "output_type": "stream",
     "text": [
      "Epoch 00000, Time(s) 111.6201, Loss 0.7184, F1 0.0000 \n"
     ]
    },
    {
     "name": "stderr",
     "output_type": "stream",
     "text": [
      "/opt/conda/lib/python3.10/site-packages/dgl/backend/pytorch/tensor.py:449: UserWarning: TypedStorage is deprecated. It will be removed in the future and UntypedStorage will be the only storage class. This should only matter to you if you are using storages directly.  To access UntypedStorage directly, use tensor.untyped_storage() instead of tensor.storage()\n",
      "  assert input.numel() == input.storage().size(), (\n"
     ]
    },
    {
     "name": "stdout",
     "output_type": "stream",
     "text": [
      "Epoch 00001, Time(s) 111.4920, Loss 9.0406, F1 0.1059 \n"
     ]
    },
    {
     "name": "stderr",
     "output_type": "stream",
     "text": [
      "/opt/conda/lib/python3.10/site-packages/dgl/backend/pytorch/tensor.py:449: UserWarning: TypedStorage is deprecated. It will be removed in the future and UntypedStorage will be the only storage class. This should only matter to you if you are using storages directly.  To access UntypedStorage directly, use tensor.untyped_storage() instead of tensor.storage()\n",
      "  assert input.numel() == input.storage().size(), (\n"
     ]
    },
    {
     "name": "stdout",
     "output_type": "stream",
     "text": [
      "Epoch 00002, Time(s) 110.7681, Loss 0.3293, F1 0.0000 \n"
     ]
    },
    {
     "name": "stderr",
     "output_type": "stream",
     "text": [
      "/opt/conda/lib/python3.10/site-packages/dgl/backend/pytorch/tensor.py:449: UserWarning: TypedStorage is deprecated. It will be removed in the future and UntypedStorage will be the only storage class. This should only matter to you if you are using storages directly.  To access UntypedStorage directly, use tensor.untyped_storage() instead of tensor.storage()\n",
      "  assert input.numel() == input.storage().size(), (\n"
     ]
    },
    {
     "name": "stdout",
     "output_type": "stream",
     "text": [
      "Epoch 00003, Time(s) 111.3572, Loss 0.4058, F1 0.0000 \n"
     ]
    },
    {
     "name": "stderr",
     "output_type": "stream",
     "text": [
      "/opt/conda/lib/python3.10/site-packages/dgl/backend/pytorch/tensor.py:449: UserWarning: TypedStorage is deprecated. It will be removed in the future and UntypedStorage will be the only storage class. This should only matter to you if you are using storages directly.  To access UntypedStorage directly, use tensor.untyped_storage() instead of tensor.storage()\n",
      "  assert input.numel() == input.storage().size(), (\n"
     ]
    },
    {
     "name": "stdout",
     "output_type": "stream",
     "text": [
      "Epoch 00004, Time(s) 110.8136, Loss 0.2379, F1 0.1386 \n"
     ]
    },
    {
     "name": "stderr",
     "output_type": "stream",
     "text": [
      "/opt/conda/lib/python3.10/site-packages/dgl/backend/pytorch/tensor.py:449: UserWarning: TypedStorage is deprecated. It will be removed in the future and UntypedStorage will be the only storage class. This should only matter to you if you are using storages directly.  To access UntypedStorage directly, use tensor.untyped_storage() instead of tensor.storage()\n",
      "  assert input.numel() == input.storage().size(), (\n"
     ]
    },
    {
     "name": "stdout",
     "output_type": "stream",
     "text": [
      "Metrics\n",
      "Confusion Matrix:\n",
      "                                                    labels positive  labels negative\n",
      "predicted positive             2195            21033\n",
      "predicted negative             1869            93011\n",
      "                                f1: 0.1609, precision: 0.0945, recall: 0.5401, acc: 0.8061, roc: 0.7108, pr: 0.0770, ap: 0.0771\n",
      "                             \n"
     ]
    },
    {
     "data": {
      "image/png": "[encoded data removed]",
      "text/plain": [
       "<Figure size 640x480 with 1 Axes>"
      ]
     },
     "metadata": {},
     "output_type": "display_data"
    },
    {
     "data": {
      "image/png": "[encoded data removed]",
      "text/plain": [
       "<Figure size 640x480 with 1 Axes>"
      ]
     },
     "metadata": {},
     "output_type": "display_data"
    }
   ],
   "source": [
    "model, class_preds, pred_proba = train_fg(model, optim, loss, features, labels, g, g,\n",
    "                                            test_mask, device, args.n_epochs,\n",
    "                                            args.threshold,  args.compute_metrics)"
   ]
  }
 ],
 "metadata": {
  "kernelspec": {
   "display_name": "Python 3",
   "language": "python",
   "name": "python3"
  },
  "language_info": {
   "codemirror_mode": {
    "name": "ipython",
    "version": 3
   },
   "file_extension": ".py",
   "mimetype": "text/x-python",
   "name": "python",
   "nbconvert_exporter": "python",
   "pygments_lexer": "ipython3",
   "version": "3.10.10"
  },
  "papermill": {
   "default_parameters": {},
   "duration": 1353.416217,
   "end_time": "2023-05-07T23:08:48.508816",
   "environment_variables": {},
   "exception": null,
   "input_path": "__notebook__.ipynb",
   "output_path": "__notebook__.ipynb",
   "parameters": {},
   "start_time": "2023-05-07T22:46:15.092599",
   "version": "2.4.0"
  }
 },
 "nbformat": 4,
 "nbformat_minor": 5
}
